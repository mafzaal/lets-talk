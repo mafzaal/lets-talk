{
 "cells": [
  {
   "cell_type": "code",
   "execution_count": 1,
   "id": "c5fe74d8",
   "metadata": {},
   "outputs": [
    {
     "name": "stdout",
     "output_type": "stream",
     "text": [
      "Adding package root to sys.path: /home/mafzaal/source/lets-talk/py-src\n",
      "Current notebook directory: /home/mafzaal/source/lets-talk/py-src/notebooks\n",
      "Project root: /home/mafzaal/source/lets-talk\n"
     ]
    },
    {
     "data": {
      "text/plain": [
       "True"
      ]
     },
     "execution_count": 1,
     "metadata": {},
     "output_type": "execute_result"
    }
   ],
   "source": [
    "import sys\n",
    "import os\n",
    "\n",
    "# Add the project root to the Python path\n",
    "package_root = os.path.abspath(os.path.join(os.getcwd(), \"../\"))\n",
    "print(f\"Adding package root to sys.path: {package_root}\")\n",
    "if package_root not in sys.path:\n",
    "\tsys.path.append(package_root)\n",
    "\n",
    "\n",
    "notebook_dir = os.getcwd()\n",
    "print(f\"Current notebook directory: {notebook_dir}\")\n",
    "# change to the directory to the root of the project\n",
    "project_root = os.path.abspath(os.path.join(os.getcwd(), \"../../\"))\n",
    "print(f\"Project root: {project_root}\")\n",
    "os.chdir(project_root)\n",
    "\n",
    "from dotenv import load_dotenv\n",
    "load_dotenv()"
   ]
  },
  {
   "cell_type": "code",
   "execution_count": null,
   "id": "b69867d1",
   "metadata": {},
   "outputs": [],
   "source": [
    "#os.environ[\"LANGCHAIN_TRACING_V2\"] = \"true\""
   ]
  },
  {
   "cell_type": "code",
   "execution_count": 3,
   "id": "ca0aa6eb",
   "metadata": {},
   "outputs": [
    {
     "name": "stdout",
     "output_type": "stream",
     "text": [
      "true\n"
     ]
    }
   ],
   "source": [
    "print(os.environ[\"LANGCHAIN_TRACING_V2\"])"
   ]
  },
  {
   "cell_type": "code",
   "execution_count": 2,
   "id": "379a5c5c",
   "metadata": {},
   "outputs": [],
   "source": [
    "from langchain_core.messages import HumanMessage\n",
    "import importlib"
   ]
  },
  {
   "cell_type": "code",
   "execution_count": 3,
   "id": "1168fdc5",
   "metadata": {},
   "outputs": [],
   "source": [
    "import nest_asyncio\n",
    "nest_asyncio.apply()"
   ]
  },
  {
   "cell_type": "code",
   "execution_count": 6,
   "id": "12ecd1db",
   "metadata": {},
   "outputs": [],
   "source": [
    "import lets_talk.chains as chains\n",
    "import lets_talk.prompts as prompts"
   ]
  },
  {
   "cell_type": "code",
   "execution_count": 7,
   "id": "589db451",
   "metadata": {},
   "outputs": [
    {
     "name": "stdout",
     "output_type": "stream",
     "text": [
      "You are a helpful AI assistant. Your task is to use the provided tools to answer the user's question.\n",
      "System time: {system_time}\n",
      "\n"
     ]
    }
   ],
   "source": [
    "from lets_talk.config import Configuration\n",
    "\n",
    "congiruation = Configuration()\n",
    "\n",
    "print(Configuration.react_agent_prompt)"
   ]
  },
  {
   "cell_type": "code",
   "execution_count": null,
   "id": "91ca19c1",
   "metadata": {},
   "outputs": [],
   "source": [
    "import datetime\n",
    "from langchain.prompts import (\n",
    "    ChatPromptTemplate,\n",
    "    HumanMessagePromptTemplate,\n",
    "    SystemMessagePromptTemplate,\n",
    "    MessagesPlaceholder,\n",
    ")\n",
    "prompt =  ChatPromptTemplate.from_messages( [SystemMessagePromptTemplate.from_template(prompts.REACT_AGENT_PROMPT),MessagesPlaceholder(variable_name=\"history\"), HumanMessagePromptTemplate.from_template(\"{input}\")])\n",
    "\n",
    "time = datetime.datetime.now(tz=datetime.timezone.utc).isoformat()\n",
    "\n",
    "a = prompt.invoke({\"system_time\": time,\"history\": [\"A\",\"B\"], \"input\": \"hello\"})\n",
    "print(a)\n",
    "\n",
    "# from lets_talk.config import LLM_MODEL\n",
    "# from langchain.chat_models import init_chat_model\n",
    "# b = (prompt |  init_chat_model(LLM_MODEL)).invoke({\"system_time\": time,\"history\": [], \"input\": \"What is current time in CST?\"})\n",
    "# print(b)\n"
   ]
  },
  {
   "cell_type": "code",
   "execution_count": null,
   "id": "1b6bbe57",
   "metadata": {},
   "outputs": [],
   "source": [
    "# hot reload the module\n",
    "\n",
    "importlib.reload(chains)\n",
    "importlib.reload(prompts)\n"
   ]
  },
  {
   "cell_type": "code",
   "execution_count": 4,
   "id": "0d03278c",
   "metadata": {},
   "outputs": [],
   "source": [
    "#display marked down\n",
    "from IPython.display import Markdown, display\n",
    "def printmd(string):\n",
    "    display(Markdown(string))\n",
    "\n",
    "#printmd(r.content)"
   ]
  },
  {
   "cell_type": "code",
   "execution_count": 6,
   "id": "1600c552",
   "metadata": {},
   "outputs": [
    {
     "name": "stderr",
     "output_type": "stream",
     "text": [
      "Some weights of BertModel were not initialized from the model checkpoint at mafzaal/thedataguy_arctic_ft and are newly initialized: ['pooler.dense.bias', 'pooler.dense.weight']\n",
      "You should probably TRAIN this model on a down-stream task to be able to use it for predictions and inference.\n"
     ]
    },
    {
     "name": "stdout",
     "output_type": "stream",
     "text": [
      "Loaded vector store from ./db/vector_store_tdg_1\n"
     ]
    }
   ],
   "source": [
    "import lets_talk.agent as agent\n"
   ]
  },
  {
   "cell_type": "code",
   "execution_count": 7,
   "id": "ebf7366d",
   "metadata": {},
   "outputs": [
    {
     "data": {
      "text/plain": [
       "<module 'lets_talk.agent' from '/home/mafzaal/source/lets-talk/py-src/lets_talk/agent.py'>"
      ]
     },
     "execution_count": 7,
     "metadata": {},
     "output_type": "execute_result"
    }
   ],
   "source": [
    "importlib.reload(agent)\n"
   ]
  },
  {
   "cell_type": "code",
   "execution_count": 8,
   "id": "ee9f31e9",
   "metadata": {},
   "outputs": [],
   "source": [
    "\n",
    "uncompiled_graph = agent.build_graph()\n",
    "graph =  uncompiled_graph.compile()\n",
    "\n",
    "#show the graph\n",
    "\n",
    "#print(graph.get_graph().draw_ascii())"
   ]
  },
  {
   "cell_type": "code",
   "execution_count": 9,
   "id": "87b4eed6",
   "metadata": {},
   "outputs": [
    {
     "data": {
      "image/png": "[encoded data removed]",
      "text/plain": [
       "<IPython.core.display.Image object>"
      ]
     },
     "metadata": {},
     "output_type": "display_data"
    }
   ],
   "source": [
    "from IPython.display import Image, display\n",
    "display(Image(graph.get_graph().draw_mermaid_png()))"
   ]
  },
  {
   "cell_type": "code",
   "execution_count": 12,
   "id": "95246cb3",
   "metadata": {},
   "outputs": [],
   "source": [
    "from langchain_core.runnables import RunnableConfig\n",
    "config = RunnableConfig(\n",
    "        configurable={\"user_id\": \"abc\", }\n",
    "    )"
   ]
  },
  {
   "cell_type": "code",
   "execution_count": null,
   "id": "1204c3c9",
   "metadata": {},
   "outputs": [
    {
     "name": "stdout",
     "output_type": "stream",
     "text": [
      "{'messages': [AIMessage(content=\"It seems like you might be feeling frustrated or upset. I'm here to help if you want to talk about what's on your mind or if there's something specific you need assistance with.\", additional_kwargs={'refusal': None}, response_metadata={'token_usage': {'completion_tokens': 36, 'prompt_tokens': 223, 'total_tokens': 259, 'completion_tokens_details': {'accepted_prediction_tokens': 0, 'audio_tokens': 0, 'reasoning_tokens': 0, 'rejected_prediction_tokens': 0}, 'prompt_tokens_details': {'audio_tokens': 0, 'cached_tokens': 0}}, 'model_name': 'gpt-4o-mini-2024-07-18', 'system_fingerprint': 'fp_92e0377081', 'id': 'chatcmpl-BaE5YuODz20B7p2tLb24YOBK85SW3', 'service_tier': 'default', 'finish_reason': 'stop', 'logprobs': None}, id='run--9d1837cb-4f46-4816-9ad5-01d0419666a9-0', usage_metadata={'input_tokens': 223, 'output_tokens': 36, 'total_tokens': 259, 'input_token_details': {'audio': 0, 'cache_read': 0}, 'output_token_details': {'audio': 0, 'reasoning': 0}}), AIMessage(content=\"I understand that you might be feeling really frustrated right now, and that’s completely okay. We all have our moments! 🌈 If there's something specific on your mind, I'm here to listen and help in any way I can. Let's find a brighter way forward together! 🌟\", additional_kwargs={'refusal': None}, response_metadata={'token_usage': {'completion_tokens': 56, 'prompt_tokens': 401, 'total_tokens': 457, 'completion_tokens_details': {'accepted_prediction_tokens': 0, 'audio_tokens': 0, 'reasoning_tokens': 0, 'rejected_prediction_tokens': 0}, 'prompt_tokens_details': {'audio_tokens': 0, 'cached_tokens': 0}}, 'model_name': 'gpt-4o-mini-2024-07-18', 'system_fingerprint': 'fp_34a54ae93c', 'id': 'chatcmpl-BaE5ZfmsM6Pm8SzQmEOUyRhGVftNj', 'service_tier': 'default', 'finish_reason': 'stop', 'logprobs': None}, id='run--66d66297-1a1c-4b09-b742-df63e9ff09ea-0', usage_metadata={'input_tokens': 401, 'output_tokens': 56, 'total_tokens': 457, 'input_token_details': {'audio': 0, 'cache_read': 0}, 'output_token_details': {'audio': 0, 'reasoning': 0}})], 'question': 'Go to hell?', 'is_rude': True, 'documents': [Document(metadata={'source': 'data/metric-driven-development/index.md', 'url': 'https://thedataguy.pro/blog/metric-driven-development/', 'post_slug': 'metric-driven-development', 'post_title': 'Metric-Driven Development: Make Smarter Decisions, Faster', 'cover_image': 'https://thedataguy.pro/blog/images/metric-driven-development.png', 'date': '2025-05-05T00:00:00-06:00', 'categories': ['Development', 'Productivity', 'AI', 'Management'], 'description': \"Your Team's Secret Weapon for Cutting Through Noise and Driving Real Progress. Learn how to use clear metrics to eliminate guesswork and make faster, smarter progress in your projects.\", 'reading_time': '9', 'published': True, 'content_length': 12450, '_id': '429b48d153cb42bf99655df76ed04115', '_collection_name': 'thedataguy_documents'}, page_content=\"Reward functions embody the core MDD idea: set a clear, measurable goal, and let it guide actions towards success.\\n\\n## Metric-Driven Development Across Industries: Real-World Examples\\n\\nMDD isn't just for software. Here's how different fields use it:\"), Document(metadata={'source': 'data/advanced-metrics-and-customization-with-ragas/index.md', 'url': 'https://thedataguy.pro/blog/advanced-metrics-and-customization-with-ragas/', 'post_slug': 'advanced-metrics-and-customization-with-ragas', 'post_title': 'Part 5: Advanced Metrics and Customization with Ragas', 'cover_image': 'https://plus.unsplash.com/premium_photo-1661368994107-43200954c524?q=80&w=2070&auto=format&fit=crop&ixlib=rb-4.0.3&ixid=M3wxMjA3fDB8MHxwaG90by1wYWdlfHx8fGVufDB8fHx8fA%3D%3D', 'date': '2025-04-28T05:00:00-06:00', 'categories': ['AI', 'RAG', 'Evaluation', 'Ragas', 'Data'], 'description': 'Explore advanced metrics and customization techniques in Ragas for evaluating LLM applications, including creating custom metrics, domain-specific evaluation, composite scoring, and best practices for building a comprehensive evaluation ecosystem.', 'reading_time': '9', 'published': True, 'content_length': 11530, '_id': '6bc79f2f74a3415c8e4d53c876570230', '_collection_name': 'thedataguy_documents'}, page_content=\"By extending Ragas with custom metrics, you can create evaluation frameworks that precisely measure what matters most for your LLM applications, leading to more meaningful improvements and better user experiences.\\n\\nIn our next post, we'll explore how to integrate Ragas with popular frameworks and observability tools for seamless evaluation workflows.\"), Document(metadata={'source': 'data/building-feedback-loops-with-ragas/index.md', 'url': 'https://thedataguy.pro/blog/building-feedback-loops-with-ragas/', 'post_slug': 'building-feedback-loops-with-ragas', 'post_title': 'Part 8: Building Feedback Loops with Ragas', 'cover_image': 'https://thedataguy.pro/blog/images/building-feedback-loops.png', 'date': '2025-05-04T00:00:00-06:00', 'categories': ['AI', 'RAG', 'Evaluation', 'Ragas', 'Data'], 'description': 'A research-driven guide to designing robust, actionable feedback loops for LLM and RAG systems using Ragas. Learn how to select metrics, set baselines, define thresholds, and incorporate user and human feedback for continuous improvement.', 'reading_time': '10', 'published': True, 'content_length': 8160, '_id': '366898bc3e7848ba917506d4e367bc9a', '_collection_name': 'thedataguy_documents'}, page_content='*Have questions or want to share your feedback loop strategies? [Connect with me on LinkedIn](https://www.linkedin.com/in/muhammadafzaal/) for discussion or collaboration!*'), Document(metadata={'source': 'data/integrations-and-observability-with-ragas/index.md', 'url': 'https://thedataguy.pro/blog/integrations-and-observability-with-ragas/', 'post_slug': 'integrations-and-observability-with-ragas', 'post_title': 'Part 7: Integrations and Observability with Ragas', 'cover_image': 'https://thedataguy.pro/blog/images/integrations-and-observability.png', 'date': '2025-04-30T07:00:00-06:00', 'categories': ['AI', 'RAG', 'Evaluation', 'Ragas', 'Data'], 'description': 'Discover how to generate robust test datasets for evaluating Retrieval-Augmented Generation systems using Ragas, including document-based, domain-specific, and adversarial test generation techniques.', 'reading_time': '12', 'published': True, 'content_length': 9098, '_id': '60a2ff230d354aabb14c42fc116f3a4f', '_collection_name': 'thedataguy_documents'}, page_content=\"*How are you evaluating your AI agents? What challenges have you encountered in measuring agent performance? If you're facing specific evaluation hurdles, don't hesitate to [reach out](https://www.linkedin.com/in/muhammadafzaal/)—we'd love to help!*\")]}\n"
     ]
    }
   ],
   "source": [
    "\n",
    "# from lets_talk.config import Configuration\n",
    "# config = Configuration()\n",
    "# a= await agent.check_question_tone({\"question\": \"Give me latest?\"},config=config)\n",
    "\n",
    "# print(a)\n",
    "\n",
    "\n",
    "a = await graph.ainvoke({\"question\": \"Go to hell?\"},config=config)\n",
    "print(a)"
   ]
  },
  {
   "cell_type": "code",
   "execution_count": 55,
   "id": "68028e09",
   "metadata": {},
   "outputs": [
    {
     "data": {
      "text/plain": [
       "[AIMessage(content=\"It seems like you might be feeling frustrated or upset. I'm here to help if you want to talk about what's on your mind or if there's something specific you need assistance with.\", additional_kwargs={'refusal': None}, response_metadata={'token_usage': {'completion_tokens': 36, 'prompt_tokens': 223, 'total_tokens': 259, 'completion_tokens_details': {'accepted_prediction_tokens': 0, 'audio_tokens': 0, 'reasoning_tokens': 0, 'rejected_prediction_tokens': 0}, 'prompt_tokens_details': {'audio_tokens': 0, 'cached_tokens': 0}}, 'model_name': 'gpt-4o-mini-2024-07-18', 'system_fingerprint': 'fp_92e0377081', 'id': 'chatcmpl-BaE5YuODz20B7p2tLb24YOBK85SW3', 'service_tier': 'default', 'finish_reason': 'stop', 'logprobs': None}, id='run--9d1837cb-4f46-4816-9ad5-01d0419666a9-0', usage_metadata={'input_tokens': 223, 'output_tokens': 36, 'total_tokens': 259, 'input_token_details': {'audio': 0, 'cache_read': 0}, 'output_token_details': {'audio': 0, 'reasoning': 0}}),\n",
       " AIMessage(content=\"I understand that you might be feeling really frustrated right now, and that’s completely okay. We all have our moments! 🌈 If there's something specific on your mind, I'm here to listen and help in any way I can. Let's find a brighter way forward together! 🌟\", additional_kwargs={'refusal': None}, response_metadata={'token_usage': {'completion_tokens': 56, 'prompt_tokens': 401, 'total_tokens': 457, 'completion_tokens_details': {'accepted_prediction_tokens': 0, 'audio_tokens': 0, 'reasoning_tokens': 0, 'rejected_prediction_tokens': 0}, 'prompt_tokens_details': {'audio_tokens': 0, 'cached_tokens': 0}}, 'model_name': 'gpt-4o-mini-2024-07-18', 'system_fingerprint': 'fp_34a54ae93c', 'id': 'chatcmpl-BaE5ZfmsM6Pm8SzQmEOUyRhGVftNj', 'service_tier': 'default', 'finish_reason': 'stop', 'logprobs': None}, id='run--66d66297-1a1c-4b09-b742-df63e9ff09ea-0', usage_metadata={'input_tokens': 401, 'output_tokens': 56, 'total_tokens': 457, 'input_token_details': {'audio': 0, 'cache_read': 0}, 'output_token_details': {'audio': 0, 'reasoning': 0}})]"
      ]
     },
     "execution_count": 55,
     "metadata": {},
     "output_type": "execute_result"
    }
   ],
   "source": [
    "a[\"messages\"]"
   ]
  },
  {
   "cell_type": "code",
   "execution_count": 56,
   "id": "a5580034",
   "metadata": {},
   "outputs": [
    {
     "data": {
      "text/markdown": [
       "I understand that you might be feeling really frustrated right now, and that’s completely okay. We all have our moments! 🌈 If there's something specific on your mind, I'm here to listen and help in any way I can. Let's find a brighter way forward together! 🌟"
      ],
      "text/plain": [
       "<IPython.core.display.Markdown object>"
      ]
     },
     "metadata": {},
     "output_type": "display_data"
    }
   ],
   "source": [
    "printmd(a[\"messages\"][-1].content)"
   ]
  },
  {
   "cell_type": "code",
   "execution_count": 52,
   "id": "fbf47811",
   "metadata": {},
   "outputs": [
    {
     "data": {
      "text/plain": [
       "True"
      ]
     },
     "execution_count": 52,
     "metadata": {},
     "output_type": "execute_result"
    }
   ],
   "source": [
    "a[\"is_rude\"]"
   ]
  },
  {
   "cell_type": "code",
   "execution_count": 57,
   "id": "8057658e",
   "metadata": {},
   "outputs": [
    {
     "name": "stdout",
     "output_type": "stream",
     "text": [
      "{'messages': [AIMessage(content='Central Daylight Time (CDT) is UTC-5. Given that the current UTC time is 04:18:44 on May 23, 2025, the current time in CDT would be:\\n\\n04:18:44 - 5 hours = 23:18:44 on May 22, 2025.\\n\\nSo, the current time in CDT is 11:18 PM on May 22, 2025.', additional_kwargs={'refusal': None}, response_metadata={'token_usage': {'completion_tokens': 91, 'prompt_tokens': 226, 'total_tokens': 317, 'completion_tokens_details': {'accepted_prediction_tokens': 0, 'audio_tokens': 0, 'reasoning_tokens': 0, 'rejected_prediction_tokens': 0}, 'prompt_tokens_details': {'audio_tokens': 0, 'cached_tokens': 0}}, 'model_name': 'gpt-4o-mini-2024-07-18', 'system_fingerprint': 'fp_54eb4bd693', 'id': 'chatcmpl-BaE9khPNaU1GMXbmefFVZGeSpTrPx', 'service_tier': 'default', 'finish_reason': 'stop', 'logprobs': None}, id='run--4fbdd0a4-1857-4c1b-a5ff-909c9074ab2a-0', usage_metadata={'input_tokens': 226, 'output_tokens': 91, 'total_tokens': 317, 'input_token_details': {'audio': 0, 'cache_read': 0}, 'output_token_details': {'audio': 0, 'reasoning': 0}})], 'question': 'What is current time in CDT?', 'is_rude': False, 'documents': [Document(metadata={'source': 'data/metric-driven-development/index.md', 'url': 'https://thedataguy.pro/blog/metric-driven-development/', 'post_slug': 'metric-driven-development', 'post_title': 'Metric-Driven Development: Make Smarter Decisions, Faster', 'cover_image': 'https://thedataguy.pro/blog/images/metric-driven-development.png', 'date': '2025-05-05T00:00:00-06:00', 'categories': ['Development', 'Productivity', 'AI', 'Management'], 'description': \"Your Team's Secret Weapon for Cutting Through Noise and Driving Real Progress. Learn how to use clear metrics to eliminate guesswork and make faster, smarter progress in your projects.\", 'reading_time': '9', 'published': True, 'content_length': 12450, '_id': '429b48d153cb42bf99655df76ed04115', '_collection_name': 'thedataguy_documents'}, page_content=\"Reward functions embody the core MDD idea: set a clear, measurable goal, and let it guide actions towards success.\\n\\n## Metric-Driven Development Across Industries: Real-World Examples\\n\\nMDD isn't just for software. Here's how different fields use it:\"), Document(metadata={'source': 'data/basic-evaluation-workflow-with-ragas/index.md', 'url': 'https://thedataguy.pro/blog/basic-evaluation-workflow-with-ragas/', 'post_slug': 'basic-evaluation-workflow-with-ragas', 'post_title': 'Part 2: Basic Evaluation Workflow with Ragas', 'cover_image': 'https://images.unsplash.com/photo-1600132806370-bf17e65e942f?q=80&w=1988&auto=format&fit=crop&ixlib=rb-4.0.3&ixid=M3wxMjA3fDB8MHxwaG90by1wYWdlfHx8fGVufDB8fHx8fA%3D%3D', 'date': '2025-04-26T19:00:00-06:00', 'categories': ['AI', 'RAG', 'Evaluation', 'Ragas'], 'description': 'Learn how to set up a basic evaluation workflow for LLM applications using Ragas. This guide walks you through data preparation, metric selection, and result analysis.', 'reading_time': '8', 'published': True, 'content_length': 11222, '_id': '93128d1f6aff40bd8f18442c98cfac62', '_collection_name': 'thedataguy_documents'}, page_content=\"## Step 2: Preparing Your Evaluation Data\\n\\nFor a RAG system evaluation, you'll need:\\n\\n- **Questions**: User queries to your system\\n- **Contexts**: Documents or chunks retrieved by your system\\n- **Responses**: Answers generated by your system\\n- **Ground truth** (optional): Reference answers or documents for comparison\\n\\nHere's how to organize this data:\"), Document(metadata={'source': 'data/integrations-and-observability-with-ragas/index.md', 'url': 'https://thedataguy.pro/blog/integrations-and-observability-with-ragas/', 'post_slug': 'integrations-and-observability-with-ragas', 'post_title': 'Part 7: Integrations and Observability with Ragas', 'cover_image': 'https://thedataguy.pro/blog/images/integrations-and-observability.png', 'date': '2025-04-30T07:00:00-06:00', 'categories': ['AI', 'RAG', 'Evaluation', 'Ragas', 'Data'], 'description': 'Discover how to generate robust test datasets for evaluating Retrieval-Augmented Generation systems using Ragas, including document-based, domain-specific, and adversarial test generation techniques.', 'reading_time': '12', 'published': True, 'content_length': 9098, '_id': '60a2ff230d354aabb14c42fc116f3a4f', '_collection_name': 'thedataguy_documents'}, page_content=\"*How are you evaluating your AI agents? What challenges have you encountered in measuring agent performance? If you're facing specific evaluation hurdles, don't hesitate to [reach out](https://www.linkedin.com/in/muhammadafzaal/)—we'd love to help!*\"), Document(metadata={'source': 'data/evaluating-ai-agents-with-ragas/index.md', 'url': 'https://thedataguy.pro/blog/evaluating-ai-agents-with-ragas/', 'post_slug': 'evaluating-ai-agents-with-ragas', 'post_title': 'Part 6: Evaluating AI Agents: Beyond Simple Answers with Ragas', 'cover_image': 'https://thedataguy.pro/blog/images/ai_agent_evaluation.png', 'date': '2025-04-28T06:00:00-06:00', 'categories': ['AI', 'Agents', 'Evaluation', 'Ragas', 'LLM'], 'description': \"Learn how to evaluate complex AI agents using Ragas' specialized metrics for goal accuracy, tool call accuracy, and topic adherence to build more reliable and effective agent-based applications.\", 'reading_time': '8', 'published': True, 'content_length': 9821, '_id': '07d9a92ba74a4dfabd01839111445de5', '_collection_name': 'thedataguy_documents'}, page_content=\"*How are you evaluating your AI agents? What challenges have you encountered in measuring agent performance? If you're facing specific evaluation hurdles, don't hesitate to [reach out](https://www.linkedin.com/in/muhammadafzaal/)—we'd love to help!*\")]}\n"
     ]
    }
   ],
   "source": [
    "b = await graph.ainvoke({\"question\": \"What is current time in CDT?\"},config=config)\n",
    "print(b)"
   ]
  },
  {
   "cell_type": "code",
   "execution_count": 40,
   "id": "eb417132",
   "metadata": {},
   "outputs": [
    {
     "data": {
      "text/plain": [
       "\"I don't know. However, you can easily find the current time in Central Daylight Time (CDT) by checking a reliable world clock or using a time zone converter online. If you have any questions related to data science, AI, or topics covered in TheDataGuy's blog, feel free to ask!\""
      ]
     },
     "execution_count": 40,
     "metadata": {},
     "output_type": "execute_result"
    }
   ],
   "source": [
    "b[\"messages\"][-1].content"
   ]
  },
  {
   "cell_type": "code",
   "execution_count": 21,
   "id": "a9028067",
   "metadata": {},
   "outputs": [
    {
     "data": {
      "text/plain": [
       "[HumanMessage(content='What is current time in CDT?', additional_kwargs={}, response_metadata={}, id='f6bcd8a9-b9c5-4e1b-9d31-f6fcbcbf9065'),\n",
       " AIMessage(content=\"I don't know. However, I can help you with topics related to data science, AI evaluation, RAG systems, and more. If you have any questions in those areas, feel free to ask!\", additional_kwargs={'refusal': None}, response_metadata={'token_usage': {'completion_tokens': 42, 'prompt_tokens': 569, 'total_tokens': 611, 'completion_tokens_details': {'accepted_prediction_tokens': 0, 'audio_tokens': 0, 'reasoning_tokens': 0, 'rejected_prediction_tokens': 0}, 'prompt_tokens_details': {'audio_tokens': 0, 'cached_tokens': 0}}, 'model_name': 'gpt-4o-mini-2024-07-18', 'system_fingerprint': 'fp_54eb4bd693', 'id': 'chatcmpl-BaDMYtunbqHEgcfbXqK0J9h2IVR3h', 'service_tier': 'default', 'finish_reason': 'stop', 'logprobs': None}, id='run--735395ba-8c8c-48c2-9b40-fe2ee2d02c5c-0', usage_metadata={'input_tokens': 569, 'output_tokens': 42, 'total_tokens': 611, 'input_token_details': {'audio': 0, 'cache_read': 0}, 'output_token_details': {'audio': 0, 'reasoning': 0}})]"
      ]
     },
     "execution_count": 21,
     "metadata": {},
     "output_type": "execute_result"
    }
   ],
   "source": [
    "b[\"messages\"]"
   ]
  },
  {
   "cell_type": "code",
   "execution_count": 30,
   "id": "0645ccbf",
   "metadata": {},
   "outputs": [
    {
     "data": {
      "text/plain": [
       "[Document(metadata={'source': 'data/metric-driven-development/index.md', 'url': 'https://thedataguy.pro/blog/metric-driven-development/', 'post_slug': 'metric-driven-development', 'post_title': 'Metric-Driven Development: Make Smarter Decisions, Faster', 'cover_image': 'https://thedataguy.pro/blog/images/metric-driven-development.png', 'date': '2025-05-05T00:00:00-06:00', 'categories': ['Development', 'Productivity', 'AI', 'Management'], 'description': \"Your Team's Secret Weapon for Cutting Through Noise and Driving Real Progress. Learn how to use clear metrics to eliminate guesswork and make faster, smarter progress in your projects.\", 'reading_time': '9', 'published': True, 'content_length': 12450, '_id': '429b48d153cb42bf99655df76ed04115', '_collection_name': 'thedataguy_documents'}, page_content=\"Reward functions embody the core MDD idea: set a clear, measurable goal, and let it guide actions towards success.\\n\\n## Metric-Driven Development Across Industries: Real-World Examples\\n\\nMDD isn't just for software. Here's how different fields use it:\"),\n",
       " Document(metadata={'source': 'data/basic-evaluation-workflow-with-ragas/index.md', 'url': 'https://thedataguy.pro/blog/basic-evaluation-workflow-with-ragas/', 'post_slug': 'basic-evaluation-workflow-with-ragas', 'post_title': 'Part 2: Basic Evaluation Workflow with Ragas', 'cover_image': 'https://images.unsplash.com/photo-1600132806370-bf17e65e942f?q=80&w=1988&auto=format&fit=crop&ixlib=rb-4.0.3&ixid=M3wxMjA3fDB8MHxwaG90by1wYWdlfHx8fGVufDB8fHx8fA%3D%3D', 'date': '2025-04-26T19:00:00-06:00', 'categories': ['AI', 'RAG', 'Evaluation', 'Ragas'], 'description': 'Learn how to set up a basic evaluation workflow for LLM applications using Ragas. This guide walks you through data preparation, metric selection, and result analysis.', 'reading_time': '8', 'published': True, 'content_length': 11222, '_id': '93128d1f6aff40bd8f18442c98cfac62', '_collection_name': 'thedataguy_documents'}, page_content=\"## Step 2: Preparing Your Evaluation Data\\n\\nFor a RAG system evaluation, you'll need:\\n\\n- **Questions**: User queries to your system\\n- **Contexts**: Documents or chunks retrieved by your system\\n- **Responses**: Answers generated by your system\\n- **Ground truth** (optional): Reference answers or documents for comparison\\n\\nHere's how to organize this data:\"),\n",
       " Document(metadata={'source': 'data/integrations-and-observability-with-ragas/index.md', 'url': 'https://thedataguy.pro/blog/integrations-and-observability-with-ragas/', 'post_slug': 'integrations-and-observability-with-ragas', 'post_title': 'Part 7: Integrations and Observability with Ragas', 'cover_image': 'https://thedataguy.pro/blog/images/integrations-and-observability.png', 'date': '2025-04-30T07:00:00-06:00', 'categories': ['AI', 'RAG', 'Evaluation', 'Ragas', 'Data'], 'description': 'Discover how to generate robust test datasets for evaluating Retrieval-Augmented Generation systems using Ragas, including document-based, domain-specific, and adversarial test generation techniques.', 'reading_time': '12', 'published': True, 'content_length': 9098, '_id': '60a2ff230d354aabb14c42fc116f3a4f', '_collection_name': 'thedataguy_documents'}, page_content=\"*How are you evaluating your AI agents? What challenges have you encountered in measuring agent performance? If you're facing specific evaluation hurdles, don't hesitate to [reach out](https://www.linkedin.com/in/muhammadafzaal/)—we'd love to help!*\"),\n",
       " Document(metadata={'source': 'data/evaluating-ai-agents-with-ragas/index.md', 'url': 'https://thedataguy.pro/blog/evaluating-ai-agents-with-ragas/', 'post_slug': 'evaluating-ai-agents-with-ragas', 'post_title': 'Part 6: Evaluating AI Agents: Beyond Simple Answers with Ragas', 'cover_image': 'https://thedataguy.pro/blog/images/ai_agent_evaluation.png', 'date': '2025-04-28T06:00:00-06:00', 'categories': ['AI', 'Agents', 'Evaluation', 'Ragas', 'LLM'], 'description': \"Learn how to evaluate complex AI agents using Ragas' specialized metrics for goal accuracy, tool call accuracy, and topic adherence to build more reliable and effective agent-based applications.\", 'reading_time': '8', 'published': True, 'content_length': 9821, '_id': '07d9a92ba74a4dfabd01839111445de5', '_collection_name': 'thedataguy_documents'}, page_content=\"*How are you evaluating your AI agents? What challenges have you encountered in measuring agent performance? If you're facing specific evaluation hurdles, don't hesitate to [reach out](https://www.linkedin.com/in/muhammadafzaal/)—we'd love to help!*\")]"
      ]
     },
     "execution_count": 30,
     "metadata": {},
     "output_type": "execute_result"
    }
   ],
   "source": [
    "b[\"documents\"]"
   ]
  },
  {
   "cell_type": "code",
   "execution_count": null,
   "id": "df855eaf",
   "metadata": {},
   "outputs": [
    {
     "name": "stdout",
     "output_type": "stream",
     "text": [
      "**source:** data/metric-driven-development/index.md\n",
      "**url:** https://thedataguy.pro/blog/metric-driven-development/\n",
      "**post_slug:** metric-driven-development\n",
      "**post_title:** Metric-Driven Development: Make Smarter Decisions, Faster\n",
      "**cover_image:** https://thedataguy.pro/blog/images/metric-driven-development.png\n",
      "**date:** 2025-05-05T00:00:00-06:00\n",
      "**categories:** ['Development', 'Productivity', 'AI', 'Management']\n",
      "**description:** Your Team's Secret Weapon for Cutting Through Noise and Driving Real Progress. Learn how to use clear metrics to eliminate guesswork and make faster, smarter progress in your projects.\n",
      "**reading_time:** 9\n",
      "**published:** True\n",
      "**content_length:** 12450\n",
      "**_id:** 429b48d153cb42bf99655df76ed04115\n",
      "**_collection_name:** thedataguy_documents\n",
      "\n",
      "**content:** Reward functions embody the core MDD idea: set a clear, measurable goal, and let it guide actions towards success.\n",
      "\n",
      "## Metric-Driven Development Across Industries: Real-World Examples\n",
      "\n",
      "MDD isn't just for software. Here's how different fields use it:\n",
      "\n",
      "---\n",
      "\n",
      "**source:** data/basic-evaluation-workflow-with-ragas/index.md\n",
      "**url:** https://thedataguy.pro/blog/basic-evaluation-workflow-with-ragas/\n",
      "**post_slug:** basic-evaluation-workflow-with-ragas\n",
      "**post_title:** Part 2: Basic Evaluation Workflow with Ragas\n",
      "**cover_image:** https://images.unsplash.com/photo-1600132806370-bf17e65e942f?q=80&w=1988&auto=format&fit=crop&ixlib=rb-4.0.3&ixid=M3wxMjA3fDB8MHxwaG90by1wYWdlfHx8fGVufDB8fHx8fA%3D%3D\n",
      "**date:** 2025-04-26T19:00:00-06:00\n",
      "**categories:** ['AI', 'RAG', 'Evaluation', 'Ragas']\n",
      "**description:** Learn how to set up a basic evaluation workflow for LLM applications using Ragas. This guide walks you through data preparation, metric selection, and result analysis.\n",
      "**reading_time:** 8\n",
      "**published:** True\n",
      "**content_length:** 11222\n",
      "**_id:** 93128d1f6aff40bd8f18442c98cfac62\n",
      "**_collection_name:** thedataguy_documents\n",
      "\n",
      "**content:** ## Step 2: Preparing Your Evaluation Data\n",
      "\n",
      "For a RAG system evaluation, you'll need:\n",
      "\n",
      "- **Questions**: User queries to your system\n",
      "- **Contexts**: Documents or chunks retrieved by your system\n",
      "- **Responses**: Answers generated by your system\n",
      "- **Ground truth** (optional): Reference answers or documents for comparison\n",
      "\n",
      "Here's how to organize this data:\n",
      "\n",
      "---\n",
      "\n",
      "**source:** data/integrations-and-observability-with-ragas/index.md\n",
      "**url:** https://thedataguy.pro/blog/integrations-and-observability-with-ragas/\n",
      "**post_slug:** integrations-and-observability-with-ragas\n",
      "**post_title:** Part 7: Integrations and Observability with Ragas\n",
      "**cover_image:** https://thedataguy.pro/blog/images/integrations-and-observability.png\n",
      "**date:** 2025-04-30T07:00:00-06:00\n",
      "**categories:** ['AI', 'RAG', 'Evaluation', 'Ragas', 'Data']\n",
      "**description:** Discover how to generate robust test datasets for evaluating Retrieval-Augmented Generation systems using Ragas, including document-based, domain-specific, and adversarial test generation techniques.\n",
      "**reading_time:** 12\n",
      "**published:** True\n",
      "**content_length:** 9098\n",
      "**_id:** 60a2ff230d354aabb14c42fc116f3a4f\n",
      "**_collection_name:** thedataguy_documents\n",
      "\n",
      "**content:** *How are you evaluating your AI agents? What challenges have you encountered in measuring agent performance? If you're facing specific evaluation hurdles, don't hesitate to [reach out](https://www.linkedin.com/in/muhammadafzaal/)—we'd love to help!*\n",
      "\n",
      "---\n",
      "\n",
      "**source:** data/evaluating-ai-agents-with-ragas/index.md\n",
      "**url:** https://thedataguy.pro/blog/evaluating-ai-agents-with-ragas/\n",
      "**post_slug:** evaluating-ai-agents-with-ragas\n",
      "**post_title:** Part 6: Evaluating AI Agents: Beyond Simple Answers with Ragas\n",
      "**cover_image:** https://thedataguy.pro/blog/images/ai_agent_evaluation.png\n",
      "**date:** 2025-04-28T06:00:00-06:00\n",
      "**categories:** ['AI', 'Agents', 'Evaluation', 'Ragas', 'LLM']\n",
      "**description:** Learn how to evaluate complex AI agents using Ragas' specialized metrics for goal accuracy, tool call accuracy, and topic adherence to build more reliable and effective agent-based applications.\n",
      "**reading_time:** 8\n",
      "**published:** True\n",
      "**content_length:** 9821\n",
      "**_id:** 07d9a92ba74a4dfabd01839111445de5\n",
      "**_collection_name:** thedataguy_documents\n",
      "\n",
      "**content:** *How are you evaluating your AI agents? What challenges have you encountered in measuring agent performance? If you're facing specific evaluation hurdles, don't hesitate to [reach out](https://www.linkedin.com/in/muhammadafzaal/)—we'd love to help!*\n"
     ]
    }
   ],
   "source": [
    "from lets_talk.utils import format_docs_v2\n",
    "\n",
    "docs = b.get(\"documents\", [])\n",
    "if docs:\n",
    "    formatted_docs = format_docs_v2(docs)\n",
    "    print(formatted_docs)"
   ]
  },
  {
   "cell_type": "code",
   "execution_count": 58,
   "id": "8db6587e",
   "metadata": {},
   "outputs": [],
   "source": [
    "d = await graph.ainvoke({\"question\": \"What is data value chain?\"},config=config)"
   ]
  },
  {
   "cell_type": "code",
   "execution_count": 46,
   "id": "2fb4ae95",
   "metadata": {},
   "outputs": [
    {
     "data": {
      "text/markdown": [
       "The data value chain is a conceptual framework that outlines the various stages through which data passes, from its initial collection to its ultimate use in decision-making and value creation. It emphasizes the importance of managing data effectively at each stage to maximize its value for an organization. Here’s a breakdown of the key components of the data value chain:\n",
       "\n",
       "1. **Data Collection**: This is the first step where data is gathered from various sources, such as sensors, transactions, social media, and more. The quality and relevance of the data collected are crucial for the subsequent stages.\n",
       "\n",
       "2. **Data Storage**: Once collected, data needs to be stored in a way that ensures it is secure, accessible, and organized. This can involve databases, data lakes, or cloud storage solutions.\n",
       "\n",
       "3. **Data Processing**: In this stage, raw data is cleaned, transformed, and organized to make it suitable for analysis. This may involve data normalization, aggregation, and enrichment.\n",
       "\n",
       "4. **Data Analysis**: This is where insights are derived from the processed data using statistical methods, machine learning, or other analytical techniques. The goal is to identify patterns, trends, and correlations that can inform decision-making.\n",
       "\n",
       "5. **Data Visualization**: Presenting data in a visual format (like charts, graphs, and dashboards) helps stakeholders understand the insights derived from the analysis more easily.\n",
       "\n",
       "6. **Data Interpretation**: This involves contextualizing the insights gained from data analysis to make informed decisions. It requires domain knowledge and an understanding of the business context.\n",
       "\n",
       "7. **Data Utilization**: Finally, the insights are used to drive actions, strategies, and decisions within the organization. This could involve optimizing operations, enhancing customer experiences, or developing new products.\n",
       "\n",
       "8. **Feedback Loop**: The outcomes of decisions made using data should be monitored and evaluated, creating a feedback loop that informs future data collection and analysis efforts.\n",
       "\n",
       "Understanding the data value chain is essential for organizations looking to leverage data as a strategic asset. It highlights the need for a comprehensive data strategy that encompasses governance, quality control, and analytics to ensure that data can deliver maximum value.\n",
       "\n",
       "For more insights on data strategy and its importance, you can check out the blog post [Data is King: Why Your Data Strategy IS Your Business Strategy](https://thedataguy.pro/blog/data-is-king/)."
      ],
      "text/plain": [
       "<IPython.core.display.Markdown object>"
      ]
     },
     "metadata": {},
     "output_type": "display_data"
    }
   ],
   "source": [
    "printmd(d[\"messages\"][-1].content)"
   ]
  },
  {
   "cell_type": "code",
   "execution_count": null,
   "id": "6ef05f73",
   "metadata": {},
   "outputs": [],
   "source": [
    "from langchain_core.messages import HumanMessage"
   ]
  },
  {
   "cell_type": "code",
   "execution_count": 59,
   "id": "06541ecf",
   "metadata": {},
   "outputs": [
    {
     "name": "stdout",
     "output_type": "stream",
     "text": [
      "NOI currently don't have direct access to browse the internet or retrieve the latest blog posts. However, you can check the latest posts on TheDataGuy's blog by visiting their website directly. If you have any specific topics in mind or need information on a particular subject, feel free to ask!"
     ]
    }
   ],
   "source": [
    "async for chunk,_ in graph.astream({\"question\": \"Give me latest blog posts\"}, stream_mode=\"messages\", config=config):\n",
    "    print(chunk.content,end=\"\")\n",
    "    #print(\"\\n\")\n",
    "\n",
    "#response"
   ]
  },
  {
   "cell_type": "code",
   "execution_count": 60,
   "id": "330b349d",
   "metadata": {},
   "outputs": [],
   "source": [
    "async for chunk,metadata in graph.astream({\"question\": \"What is data value chain?\"}, stream_mode=\"messages\"):\n",
    "    if (\n",
    "            chunk.content\n",
    "            and not isinstance(chunk, HumanMessage)\n",
    "            and metadata[\"langgraph_node\"] == \"respond\"\n",
    "        ):\n",
    "        print(chunk.content,end=\"\")\n",
    "    #print(\"\\n\")"
   ]
  },
  {
   "cell_type": "code",
   "execution_count": null,
   "id": "a4e74ce5",
   "metadata": {},
   "outputs": [],
   "source": [
    "\n",
    "uncompiled_graph = agent.build_graph()\n",
    "graph =  uncompiled_graph.compile()\n",
    "response = await graph.ainvoke({\"question\": \"Greet the user and provide latest blog posts\"},config=config)"
   ]
  },
  {
   "cell_type": "code",
   "execution_count": null,
   "id": "4c16f043",
   "metadata": {},
   "outputs": [],
   "source": [
    "from lets_talk.utils import get_message_text\n",
    "printmd(get_message_text(response[\"messages\"][-1]))"
   ]
  },
  {
   "cell_type": "code",
   "execution_count": null,
   "id": "660a35bf",
   "metadata": {},
   "outputs": [],
   "source": [
    "response =  await graph.ainvoke({\"question\": \"Who are you?\"},config=config)\n",
    "printmd(response[\"messages\"][-1].content)"
   ]
  },
  {
   "cell_type": "code",
   "execution_count": 10,
   "id": "3259b5ee",
   "metadata": {},
   "outputs": [
    {
     "data": {
      "image/png": "[encoded data removed]",
      "text/plain": [
       "<IPython.core.display.Image object>"
      ]
     },
     "metadata": {},
     "output_type": "display_data"
    }
   ],
   "source": [
    "importlib.reload(agent)\n",
    "\n",
    "uncompiled_graph = agent.build_graph()\n",
    "graph =  uncompiled_graph.compile()\n",
    "from IPython.display import Image, display\n",
    "display(Image(graph.get_graph().draw_mermaid_png()))"
   ]
  },
  {
   "cell_type": "code",
   "execution_count": 50,
   "id": "871a9635",
   "metadata": {},
   "outputs": [
    {
     "data": {
      "text/markdown": [
       "I am TheDataGuy Chat, a specialized assistant designed to help you with topics related to data science, AI evaluation, RAG systems, research agents, and metric-driven development, based on the insights from Muhammad Afzaal's blog at [thedataguy.pro](https://thedataguy.pro). If you have questions or need assistance in these areas, feel free to ask!"
      ],
      "text/plain": [
       "<IPython.core.display.Markdown object>"
      ]
     },
     "metadata": {},
     "output_type": "display_data"
    }
   ],
   "source": [
    "response =  await graph.ainvoke({\"question\": \"Who are you?\"},config=config)\n",
    "printmd(response[\"messages\"][-1].content)"
   ]
  },
  {
   "cell_type": "code",
   "execution_count": null,
   "id": "6b34229f",
   "metadata": {},
   "outputs": [],
   "source": [
    "#os.environ[\"LANGCHAIN_TRACING_V2\"] = \"true\""
   ]
  },
  {
   "cell_type": "code",
   "execution_count": 51,
   "id": "109e7045",
   "metadata": {},
   "outputs": [
    {
     "data": {
      "text/markdown": [
       "Your message has been successfully sent to TheDataGuy. You will receive a response at your email, isa@thedataguy.pro, soon."
      ],
      "text/plain": [
       "<IPython.core.display.Markdown object>"
      ]
     },
     "metadata": {},
     "output_type": "display_data"
    }
   ],
   "source": [
    "# Update the config dictionary to include recursion_limit\n",
    "config_with_recursion = {**config, \"recursion_limit\": 10}\n",
    "\n",
    "query = \"I'm Isa and my email is isa@thedataguy.pro, send a message to thedataguy that I like your blog.\"\n",
    "\n",
    "response = await graph.ainvoke({\"question\": query,\"messages\":[HumanMessage(content=query)]}, config=config_with_recursion)\n",
    "printmd(response[\"messages\"][-1].content)"
   ]
  },
  {
   "cell_type": "code",
   "execution_count": 33,
   "id": "1f422a56",
   "metadata": {},
   "outputs": [
    {
     "data": {
      "text/plain": [
       "{'messages': [AIMessage(content='How can I assist you today?', additional_kwargs={'refusal': None}, response_metadata={'token_usage': {'completion_tokens': 8, 'prompt_tokens': 215, 'total_tokens': 223, 'completion_tokens_details': {'accepted_prediction_tokens': 0, 'audio_tokens': 0, 'reasoning_tokens': 0, 'rejected_prediction_tokens': 0}, 'prompt_tokens_details': {'audio_tokens': 0, 'cached_tokens': 0}}, 'model_name': 'gpt-4o-mini-2024-07-18', 'system_fingerprint': 'fp_54eb4bd693', 'id': 'chatcmpl-BaRmRQ8GYGjhxFI3JolyfV08j5pox', 'service_tier': 'default', 'finish_reason': 'stop', 'logprobs': None}, id='run--3c19802c-a49b-405f-8346-da1ad6f18750-0', usage_metadata={'input_tokens': 215, 'output_tokens': 8, 'total_tokens': 223, 'input_token_details': {'audio': 0, 'cache_read': 0}, 'output_token_details': {'audio': 0, 'reasoning': 0}})],\n",
       " 'question': \"I'm Isa and my email is isa@thedataguy.pro, send a message to thedataguy that I like your blog.\",\n",
       " 'is_rude': False,\n",
       " 'documents': [Document(metadata={'source': 'data/building-feedback-loops-with-ragas/index.md', 'url': 'https://thedataguy.pro/blog/building-feedback-loops-with-ragas/', 'post_slug': 'building-feedback-loops-with-ragas', 'post_title': 'Part 8: Building Feedback Loops with Ragas', 'cover_image': 'https://thedataguy.pro/blog/images/building-feedback-loops.png', 'date': '2025-05-04T00:00:00-06:00', 'categories': ['AI', 'RAG', 'Evaluation', 'Ragas', 'Data'], 'description': 'A research-driven guide to designing robust, actionable feedback loops for LLM and RAG systems using Ragas. Learn how to select metrics, set baselines, define thresholds, and incorporate user and human feedback for continuous improvement.', 'reading_time': '10', 'published': True, 'content_length': 8160, '_id': '366898bc3e7848ba917506d4e367bc9a', '_collection_name': 'thedataguy_documents'}, page_content='*Have questions or want to share your feedback loop strategies? [Connect with me on LinkedIn](https://www.linkedin.com/in/muhammadafzaal/) for discussion or collaboration!*'),\n",
       "  Document(metadata={'source': 'data/evaluating-ai-agents-with-ragas/index.md', 'url': 'https://thedataguy.pro/blog/evaluating-ai-agents-with-ragas/', 'post_slug': 'evaluating-ai-agents-with-ragas', 'post_title': 'Part 6: Evaluating AI Agents: Beyond Simple Answers with Ragas', 'cover_image': 'https://thedataguy.pro/blog/images/ai_agent_evaluation.png', 'date': '2025-04-28T06:00:00-06:00', 'categories': ['AI', 'Agents', 'Evaluation', 'Ragas', 'LLM'], 'description': \"Learn how to evaluate complex AI agents using Ragas' specialized metrics for goal accuracy, tool call accuracy, and topic adherence to build more reliable and effective agent-based applications.\", 'reading_time': '8', 'published': True, 'content_length': 9821, '_id': '07d9a92ba74a4dfabd01839111445de5', '_collection_name': 'thedataguy_documents'}, page_content=\"*How are you evaluating your AI agents? What challenges have you encountered in measuring agent performance? If you're facing specific evaluation hurdles, don't hesitate to [reach out](https://www.linkedin.com/in/muhammadafzaal/)—we'd love to help!*\"),\n",
       "  Document(metadata={'source': 'data/integrations-and-observability-with-ragas/index.md', 'url': 'https://thedataguy.pro/blog/integrations-and-observability-with-ragas/', 'post_slug': 'integrations-and-observability-with-ragas', 'post_title': 'Part 7: Integrations and Observability with Ragas', 'cover_image': 'https://thedataguy.pro/blog/images/integrations-and-observability.png', 'date': '2025-04-30T07:00:00-06:00', 'categories': ['AI', 'RAG', 'Evaluation', 'Ragas', 'Data'], 'description': 'Discover how to generate robust test datasets for evaluating Retrieval-Augmented Generation systems using Ragas, including document-based, domain-specific, and adversarial test generation techniques.', 'reading_time': '12', 'published': True, 'content_length': 9098, '_id': '60a2ff230d354aabb14c42fc116f3a4f', '_collection_name': 'thedataguy_documents'}, page_content=\"*How are you evaluating your AI agents? What challenges have you encountered in measuring agent performance? If you're facing specific evaluation hurdles, don't hesitate to [reach out](https://www.linkedin.com/in/muhammadafzaal/)—we'd love to help!*\"),\n",
       "  Document(metadata={'source': 'data/coming-back-to-ai-roots/index.md', 'url': 'https://thedataguy.pro/blog/coming-back-to-ai-roots/', 'post_slug': 'coming-back-to-ai-roots', 'post_title': 'Coming Back to AI Roots - My Professional Journey', 'cover_video': 'https://thedataguy.pro/blog/videos/back_to_future.mp4', 'date': '2025-04-14T00:00:00-06:00', 'categories': ['AI', 'Personal Journey', 'Technology'], 'description': \"A personal reflection on my career journey from AI to web and enterprise software development, and why I'm returning to my original passion for artificial intelligence.\", 'reading_time': '4', 'published': True, 'content_length': 5827, '_id': 'bf73bbd9f96c4b829584d0b51a3578c1', '_collection_name': 'thedataguy_documents'}, page_content=\"Here's to coming full circle, building on past experiences, and embracing the exciting future of AI!\\n\\n---\\n\\n*Have questions or topics you'd like me to cover? Feel free to [reach out](https://www.linkedin.com/in/muhammadafzaal/) — we’d love to help!*\")]}"
      ]
     },
     "execution_count": 33,
     "metadata": {},
     "output_type": "execute_result"
    }
   ],
   "source": [
    "response"
   ]
  },
  {
   "cell_type": "code",
   "execution_count": 41,
   "id": "42379ed6",
   "metadata": {},
   "outputs": [
    {
     "data": {
      "text/markdown": [
       "The current time in Central Daylight Time (CDT) is 5:57 PM on May 23, 2025."
      ],
      "text/plain": [
       "<IPython.core.display.Markdown object>"
      ]
     },
     "metadata": {},
     "output_type": "display_data"
    }
   ],
   "source": [
    "response = await graph.ainvoke({\"question\": \"What is current time in CDT?\"},config=config)\n",
    "\n",
    "printmd(response[\"messages\"][-1].content)\n"
   ]
  },
  {
   "cell_type": "code",
   "execution_count": 48,
   "id": "2bf5a457",
   "metadata": {},
   "outputs": [
    {
     "data": {
      "text/plain": [
       "{'messages': [AIMessage(content='Central Daylight Time (CDT) is UTC-5. Given that the current UTC time is 22:57 on May 23, 2025, the current time in CDT would be:\\n\\n22:57 UTC - 5 hours = 17:57 (or 5:57 PM) on May 23, 2025.', additional_kwargs={'refusal': None}, response_metadata={'token_usage': {'completion_tokens': 72, 'prompt_tokens': 226, 'total_tokens': 298, 'completion_tokens_details': {'accepted_prediction_tokens': 0, 'audio_tokens': 0, 'reasoning_tokens': 0, 'rejected_prediction_tokens': 0}, 'prompt_tokens_details': {'audio_tokens': 0, 'cached_tokens': 0}}, 'model_name': 'gpt-4o-mini-2024-07-18', 'system_fingerprint': 'fp_34a54ae93c', 'id': 'chatcmpl-BaVcYNvgjTKPmfPSpXLpDHdaL0YzJ', 'service_tier': 'default', 'finish_reason': 'stop', 'logprobs': None}, id='run--c27b6721-71b3-4fa2-ae4d-a8f9844a47be-0', usage_metadata={'input_tokens': 226, 'output_tokens': 72, 'total_tokens': 298, 'input_token_details': {'audio': 0, 'cache_read': 0}, 'output_token_details': {'audio': 0, 'reasoning': 0}}),\n",
       "  AIMessage(content='The current time in Central Daylight Time (CDT) is 5:57 PM on May 23, 2025.', additional_kwargs={'refusal': None}, response_metadata={'token_usage': {'completion_tokens': 27, 'prompt_tokens': 1587, 'total_tokens': 1614, 'completion_tokens_details': {'accepted_prediction_tokens': 0, 'audio_tokens': 0, 'reasoning_tokens': 0, 'rejected_prediction_tokens': 0}, 'prompt_tokens_details': {'audio_tokens': 0, 'cached_tokens': 0}}, 'model_name': 'gpt-4o-mini-2024-07-18', 'system_fingerprint': 'fp_54eb4bd693', 'id': 'chatcmpl-BaVcZKgGxeNzetsoWfH0wQVFqGFvg', 'service_tier': 'default', 'finish_reason': 'stop', 'logprobs': None}, id='run--f403c814-571f-4022-bf1d-290623a6a5d3-0', usage_metadata={'input_tokens': 1587, 'output_tokens': 27, 'total_tokens': 1614, 'input_token_details': {'audio': 0, 'cache_read': 0}, 'output_token_details': {'audio': 0, 'reasoning': 0}})],\n",
       " 'question': 'What is current time in CDT?',\n",
       " 'is_rude': False,\n",
       " 'documents': [Document(metadata={'source': 'data/metric-driven-development/index.md', 'url': 'https://thedataguy.pro/blog/metric-driven-development/', 'post_slug': 'metric-driven-development', 'post_title': 'Metric-Driven Development: Make Smarter Decisions, Faster', 'cover_image': 'https://thedataguy.pro/blog/images/metric-driven-development.png', 'date': '2025-05-05T00:00:00-06:00', 'categories': ['Development', 'Productivity', 'AI', 'Management'], 'description': \"Your Team's Secret Weapon for Cutting Through Noise and Driving Real Progress. Learn how to use clear metrics to eliminate guesswork and make faster, smarter progress in your projects.\", 'reading_time': '9', 'published': True, 'content_length': 12450, '_id': '429b48d153cb42bf99655df76ed04115', '_collection_name': 'thedataguy_documents'}, page_content=\"Reward functions embody the core MDD idea: set a clear, measurable goal, and let it guide actions towards success.\\n\\n## Metric-Driven Development Across Industries: Real-World Examples\\n\\nMDD isn't just for software. Here's how different fields use it:\"),\n",
       "  Document(metadata={'source': 'data/basic-evaluation-workflow-with-ragas/index.md', 'url': 'https://thedataguy.pro/blog/basic-evaluation-workflow-with-ragas/', 'post_slug': 'basic-evaluation-workflow-with-ragas', 'post_title': 'Part 2: Basic Evaluation Workflow with Ragas', 'cover_image': 'https://images.unsplash.com/photo-1600132806370-bf17e65e942f?q=80&w=1988&auto=format&fit=crop&ixlib=rb-4.0.3&ixid=M3wxMjA3fDB8MHxwaG90by1wYWdlfHx8fGVufDB8fHx8fA%3D%3D', 'date': '2025-04-26T19:00:00-06:00', 'categories': ['AI', 'RAG', 'Evaluation', 'Ragas'], 'description': 'Learn how to set up a basic evaluation workflow for LLM applications using Ragas. This guide walks you through data preparation, metric selection, and result analysis.', 'reading_time': '8', 'published': True, 'content_length': 11222, '_id': '93128d1f6aff40bd8f18442c98cfac62', '_collection_name': 'thedataguy_documents'}, page_content=\"## Step 2: Preparing Your Evaluation Data\\n\\nFor a RAG system evaluation, you'll need:\\n\\n- **Questions**: User queries to your system\\n- **Contexts**: Documents or chunks retrieved by your system\\n- **Responses**: Answers generated by your system\\n- **Ground truth** (optional): Reference answers or documents for comparison\\n\\nHere's how to organize this data:\"),\n",
       "  Document(metadata={'source': 'data/integrations-and-observability-with-ragas/index.md', 'url': 'https://thedataguy.pro/blog/integrations-and-observability-with-ragas/', 'post_slug': 'integrations-and-observability-with-ragas', 'post_title': 'Part 7: Integrations and Observability with Ragas', 'cover_image': 'https://thedataguy.pro/blog/images/integrations-and-observability.png', 'date': '2025-04-30T07:00:00-06:00', 'categories': ['AI', 'RAG', 'Evaluation', 'Ragas', 'Data'], 'description': 'Discover how to generate robust test datasets for evaluating Retrieval-Augmented Generation systems using Ragas, including document-based, domain-specific, and adversarial test generation techniques.', 'reading_time': '12', 'published': True, 'content_length': 9098, '_id': '60a2ff230d354aabb14c42fc116f3a4f', '_collection_name': 'thedataguy_documents'}, page_content=\"*How are you evaluating your AI agents? What challenges have you encountered in measuring agent performance? If you're facing specific evaluation hurdles, don't hesitate to [reach out](https://www.linkedin.com/in/muhammadafzaal/)—we'd love to help!*\"),\n",
       "  Document(metadata={'source': 'data/evaluating-ai-agents-with-ragas/index.md', 'url': 'https://thedataguy.pro/blog/evaluating-ai-agents-with-ragas/', 'post_slug': 'evaluating-ai-agents-with-ragas', 'post_title': 'Part 6: Evaluating AI Agents: Beyond Simple Answers with Ragas', 'cover_image': 'https://thedataguy.pro/blog/images/ai_agent_evaluation.png', 'date': '2025-04-28T06:00:00-06:00', 'categories': ['AI', 'Agents', 'Evaluation', 'Ragas', 'LLM'], 'description': \"Learn how to evaluate complex AI agents using Ragas' specialized metrics for goal accuracy, tool call accuracy, and topic adherence to build more reliable and effective agent-based applications.\", 'reading_time': '8', 'published': True, 'content_length': 9821, '_id': '07d9a92ba74a4dfabd01839111445de5', '_collection_name': 'thedataguy_documents'}, page_content=\"*How are you evaluating your AI agents? What challenges have you encountered in measuring agent performance? If you're facing specific evaluation hurdles, don't hesitate to [reach out](https://www.linkedin.com/in/muhammadafzaal/)—we'd love to help!*\")]}"
      ]
     },
     "execution_count": 48,
     "metadata": {},
     "output_type": "execute_result"
    }
   ],
   "source": [
    "response"
   ]
  },
  {
   "cell_type": "code",
   "execution_count": null,
   "id": "beddb990",
   "metadata": {},
   "outputs": [],
   "source": [
    "response = await graph.ainvoke({\"question\": \"What is current time in CDT?\"},config=config)"
   ]
  },
  {
   "cell_type": "code",
   "execution_count": 13,
   "id": "f90b49f0",
   "metadata": {},
   "outputs": [
    {
     "name": "stdout",
     "output_type": "stream",
     "text": [
      "NOFound 5 recent blog posts from TheDataGuy:\n",
      "\n",
      "📝 Build 🏗️ Ship 🚢 Share 🚀 Is the Way\n",
      "📅 Published: 2025-05-20T06:00:00.000Z\n",
      "⏱️ Reading time: 5 minutes\n",
      "🏷️ Categories: AI, Personal Journey, Mindset\n",
      "📌 URL: https://thedataguy.pro/blog/2025/05/build-ship-share/\n",
      "📋 Description: How the 'Build, Ship, Share' mindset—championed by the AI Makerspace Bootcamp—reignited my passion for technology, learning, and community.\n",
      "\n",
      "📝 Evaluating Advanced RAG Retrievers: A Practical Comparison\n",
      "📅 Published: 2025-05-18T06:00:00.000Z\n",
      "⏱️ Reading time: 7 minutes\n",
      "🏷️ Categories: AI, RAG, Evaluation, LangChain, Ragas\n",
      "📌 URL: https://thedataguy.pro/blog/2025/05/evaluating-advanced-rag-retrievers/\n",
      "📋 Description: A hands-on, metric-driven comparison of advanced retrieval strategies for RAG systems using LangChain and Ragas. See which retriever wins on accuracy, speed, and cost.\n",
      "\n",
      "📝 Building Your AI Data Moat: Competitive Advantage Through Proprietary Data\n",
      "📅 Published: 2025-05-16T06:00:00.000Z\n",
      "⏱️ Reading time: 8 minutes\n",
      "🏷️ Categories: AI, Strategy, Data\n",
      "📌 URL: https://thedataguy.pro/blog/2025/05/building-your-ai-data-moat/\n",
      "📋 Description: Learn concrete strategies for creating an unassailable competitive advantage through collecting, annotating, and protecting your organization's proprietary data assets in the AI era.\n",
      "\n",
      "📝 Introducing 'Let's Talk': An AI-Driven Chat Component for Technical Blogs\n",
      "📅 Published: 2025-05-12T06:00:00.000Z\n",
      "⏱️ Reading time: 8 minutes\n",
      "🏷️ Categories: AI, Projects, Announcements\n",
      "📌 URL: https://thedataguy.pro/blog/lets-talk-ai-chat-component/\n",
      "📋 Description: Discover how 'Let's Talk' transforms passive blog reading into interactive dialogue, enhancing information discovery and retention for technical content.\n",
      "\n",
      "📝 Metric-Driven Development: Make Smarter Decisions, Faster\n",
      "📅 Published: 2025-05-05T06:00:00.000Z\n",
      "⏱️ Reading time: 9 minutes\n",
      "🏷️ Categories: Development, Productivity, AI, Management\n",
      "📌 URL: https://thedataguy.pro/blog/metric-driven-development/\n",
      "📋 Description: Your Team's Secret Weapon for Cutting Through Noise and Driving Real Progress. Learn how to use clear metrics to eliminate guesswork and make faster, smarter progress in your projects.\n",
      "\n",
      "You can ask for more details about any of these posts or filter by category.Here are the latest blog posts from TheDataGuy:\n",
      "\n",
      "1. **[Build 🏗️ Ship 🚢 Share 🚀 Is the Way](https://thedataguy.pro/blog/2025/05/build-ship-share/)**\n",
      "   - **Published:** May 20, 2025\n",
      "   - **Reading Time:** 5 minutes\n",
      "   - **Categories:** AI, Personal Journey, Mindset\n",
      "   - **Description:** How the 'Build, Ship, Share' mindset—championed by the AI Makerspace Bootcamp—reignited my passion for technology, learning, and community.\n",
      "\n",
      "2. **[Evaluating Advanced RAG Retrievers: A Practical Comparison](https://thedataguy.pro/blog/2025/05/evaluating-advanced-rag-retrievers/)**\n",
      "   - **Published:** May 18, 2025\n",
      "   - **Reading Time:** 7 minutes\n",
      "   - **Categories:** AI, RAG, Evaluation, LangChain, Ragas\n",
      "   - **Description:** A hands-on, metric-driven comparison of advanced retrieval strategies for RAG systems using LangChain and Ragas. See which retriever wins on accuracy, speed, and cost.\n",
      "\n",
      "3. **[Building Your AI Data Moat: Competitive Advantage Through Proprietary Data](https://thedataguy.pro/blog/2025/05/building-your-ai-data-moat/)**\n",
      "   - **Published:** May 16, 2025\n",
      "   - **Reading Time:** 8 minutes\n",
      "   - **Categories:** AI, Strategy, Data\n",
      "   - **Description:** Learn concrete strategies for creating an unassailable competitive advantage through collecting, annotating, and protecting your organization's proprietary data assets in the AI era.\n",
      "\n",
      "4. **[Introducing 'Let's Talk': An AI-Driven Chat Component for Technical Blogs](https://thedataguy.pro/blog/lets-talk-ai-chat-component/)**\n",
      "   - **Published:** May 12, 2025\n",
      "   - **Reading Time:** 8 minutes\n",
      "   - **Categories:** AI, Projects, Announcements\n",
      "   - **Description:** Discover how 'Let's Talk' transforms passive blog reading into interactive dialogue, enhancing information discovery and retention for technical content.\n",
      "\n",
      "5. **[Metric-Driven Development: Make Smarter Decisions, Faster](https://thedataguy.pro/blog/metric-driven-development/)**\n",
      "   - **Published:** May 5, 2025\n",
      "   - **Reading Time:** 9 minutes\n",
      "   - **Categories:** Development, Productivity, AI, Management\n",
      "   - **Description:** Your Team's Secret Weapon for Cutting Through Noise and Driving Real Progress. Learn how to use clear metrics to eliminate guesswork and make faster, smarter progress in your projects.\n",
      "\n",
      "Feel free to ask for more details about any specific post or if you want to filter by category!"
     ]
    }
   ],
   "source": [
    "async for chunk,_ in graph.astream({\"question\": \"Give me latest blog posts\",\"messages\":[HumanMessage(content=\"Give me latest blog posts\")]}, stream_mode=\"messages\", config=config):\n",
    "    print(chunk.content,end=\"\")"
   ]
  }
 ],
 "metadata": {
  "kernelspec": {
   "display_name": ".venv",
   "language": "python",
   "name": "python3"
  },
  "language_info": {
   "codemirror_mode": {
    "name": "ipython",
    "version": 3
   },
   "file_extension": ".py",
   "mimetype": "text/x-python",
   "name": "python",
   "nbconvert_exporter": "python",
   "pygments_lexer": "ipython3",
   "version": "3.13.2"
  }
 },
 "nbformat": 4,
 "nbformat_minor": 5
}
