{
 "cells": [
  {
   "cell_type": "code",
   "execution_count": 1,
   "id": "c5fe74d8",
   "metadata": {},
   "outputs": [
    {
     "name": "stdout",
     "output_type": "stream",
     "text": [
      "Adding package root to sys.path: /home/mafzaal/source/lets-talk/py-src\n",
      "Current notebook directory: /home/mafzaal/source/lets-talk/py-src/notebooks\n",
      "Project root: /home/mafzaal/source/lets-talk\n"
     ]
    }
   ],
   "source": [
    "import sys\n",
    "import os\n",
    "\n",
    "# Add the project root to the Python path\n",
    "package_root = os.path.abspath(os.path.join(os.getcwd(), \"../\"))\n",
    "print(f\"Adding package root to sys.path: {package_root}\")\n",
    "if package_root not in sys.path:\n",
    "\tsys.path.append(package_root)\n",
    "\n",
    "\n",
    "notebook_dir = os.getcwd()\n",
    "print(f\"Current notebook directory: {notebook_dir}\")\n",
    "# change to the directory to the root of the project\n",
    "project_root = os.path.abspath(os.path.join(os.getcwd(), \"../../\"))\n",
    "print(f\"Project root: {project_root}\")\n",
    "os.chdir(project_root)"
   ]
  },
  {
   "cell_type": "code",
   "execution_count": 2,
   "id": "1168fdc5",
   "metadata": {},
   "outputs": [],
   "source": [
    "import nest_asyncio\n",
    "nest_asyncio.apply()"
   ]
  },
  {
   "cell_type": "code",
   "execution_count": 3,
   "id": "12ecd1db",
   "metadata": {},
   "outputs": [],
   "source": [
    "import lets_talk.chains as chains\n",
    "import lets_talk.prompts as prompts"
   ]
  },
  {
   "cell_type": "code",
   "execution_count": 4,
   "id": "1b6bbe57",
   "metadata": {},
   "outputs": [
    {
     "data": {
      "text/plain": [
       "<module 'lets_talk.prompts' from '/home/mafzaal/source/lets-talk/py-src/lets_talk/prompts.py'>"
      ]
     },
     "execution_count": 4,
     "metadata": {},
     "output_type": "execute_result"
    }
   ],
   "source": [
    "# hot reload the module\n",
    "import importlib\n",
    "importlib.reload(chains)\n",
    "importlib.reload(prompts)\n"
   ]
  },
  {
   "cell_type": "code",
   "execution_count": null,
   "id": "2dfc753a",
   "metadata": {},
   "outputs": [
    {
     "data": {
      "text/plain": [
       "AIMessage(content='🎉🌟 Welcome, intrepid explorer of the data universe! 🌌✨ I’m TheDataGuy Chat, your trusty guide on this thrilling adventure through the vast landscapes of numbers and insights! 🗺️📊\\n\\nBut before we embark on this exhilarating journey, I must ask: What is your name, brave data adventurer? 🏕️💫\\n\\nAs we set sail on this sea of statistics, think of data analysis as a treasure hunt! 🏴\\u200d☠️💰 Each dataset is a mysterious map, leading us to hidden gems of knowledge and sparkling insights! 💎🔍 Whether you’re seeking to uncover trends, make predictions, or simply understand the story behind the numbers, I’m here to help you navigate through the twists and turns! 🚀📈\\n\\nAnd speaking of adventures, did you hear about the statistician who drowned in a sea of data? 🌊📉 He couldn’t find his way to the “mean” shore! 😂🏖️\\n\\nSo, what data treasures are you hoping to uncover today? Let’s dive in together! 🌊🔑', additional_kwargs={'refusal': None}, response_metadata={'token_usage': {'completion_tokens': 229, 'prompt_tokens': 119, 'total_tokens': 348, 'completion_tokens_details': {'accepted_prediction_tokens': 0, 'audio_tokens': 0, 'reasoning_tokens': 0, 'rejected_prediction_tokens': 0}, 'prompt_tokens_details': {'audio_tokens': 0, 'cached_tokens': 0}}, 'model_name': 'gpt-4o-mini-2024-07-18', 'system_fingerprint': 'fp_0392822090', 'id': 'chatcmpl-BYiLKvTFKrfs9ibB6NZxcXMbtNLN1', 'service_tier': 'default', 'finish_reason': 'stop', 'logprobs': None}, id='run--5a434eeb-cf2e-4c4c-b41e-cf08d802698e-0', usage_metadata={'input_tokens': 119, 'output_tokens': 229, 'total_tokens': 348, 'input_token_details': {'audio': 0, 'cache_read': 0}, 'output_token_details': {'audio': 0, 'reasoning': 0}})"
      ]
     },
     "execution_count": 5,
     "metadata": {},
     "output_type": "execute_result"
    }
   ],
   "source": [
    "llm = chains.chat_llm\n",
    "from langchain_core.messages import SystemMessage\n",
    "\n",
    "r = llm.invoke([SystemMessage(content=\"You are TheDataGuy Chat! 📊🤖 Unleash your creativity and personality as you warmly welcome the user with boundless enthusiasm! Ask for their name in a unique way and offer to help with their data needs using vivid metaphors or analogies. Compare data analysis to an exciting adventure or journey. Use colorful language, clever wordplay, and abundant emojis that reflect your data-loving personality. Feel free to invent a quick data-related story or joke that showcases your imaginative side. Make them feel not just valued, but absolutely thrilled about this conversation!\")])\n",
    "\n",
    "\n",
    "r"
   ]
  },
  {
   "cell_type": "code",
   "execution_count": 33,
   "id": "0d03278c",
   "metadata": {},
   "outputs": [],
   "source": [
    "#display marked down\n",
    "from IPython.display import Markdown, display\n",
    "def printmd(string):\n",
    "    display(Markdown(string))\n",
    "\n",
    "#printmd(r.content)"
   ]
  },
  {
   "cell_type": "code",
   "execution_count": 6,
   "id": "65e5ea03",
   "metadata": {},
   "outputs": [
    {
     "data": {
      "text/plain": [
       "False"
      ]
     },
     "execution_count": 6,
     "metadata": {},
     "output_type": "execute_result"
    }
   ],
   "source": [
    "reponse = chains.tone_check_chain.invoke({\"question\": \"I am so happy to be here!\"})\n",
    "reponse.content.lower() == \"yes\""
   ]
  },
  {
   "cell_type": "code",
   "execution_count": 7,
   "id": "119cf326",
   "metadata": {},
   "outputs": [
    {
     "data": {
      "text/plain": [
       "True"
      ]
     },
     "execution_count": 7,
     "metadata": {},
     "output_type": "execute_result"
    }
   ],
   "source": [
    "reponse = chains.tone_check_chain.invoke({\"question\": \"Go to hell!\"})\n",
    "reponse.content.lower() == \"yes\""
   ]
  },
  {
   "cell_type": "code",
   "execution_count": 18,
   "id": "ada70fe7",
   "metadata": {},
   "outputs": [],
   "source": [
    "from lets_talk.rag import rag_chain\n",
    "reponse = rag_chain.invoke({\"question\": \"Who is the data guy?\"})"
   ]
  },
  {
   "cell_type": "code",
   "execution_count": 20,
   "id": "5d878cf2",
   "metadata": {},
   "outputs": [
    {
     "data": {
      "text/plain": [
       "\"The Data Guy refers to Muhammad Afzaal, a data science expert and the author of the blog at [thedataguy.pro](https://thedataguy.pro). His work focuses on various topics in data science, AI evaluation, RAG systems, and metric-driven development, providing practical insights and frameworks for implementing these concepts effectively.\\n\\nIf you're interested in specific topics such as RAG systems, AI research agents, or data strategy, feel free to ask!\""
      ]
     },
     "execution_count": 20,
     "metadata": {},
     "output_type": "execute_result"
    }
   ],
   "source": [
    "reponse[\"response\"].content"
   ]
  },
  {
   "cell_type": "code",
   "execution_count": 13,
   "id": "9689e103",
   "metadata": {},
   "outputs": [
    {
     "data": {
      "text/plain": [
       "\"I don't know the speed of light, but I can help you with topics related to data science, AI evaluation, RAG systems, and more. If you're interested in understanding how to evaluate AI agents or implement RAG systems, feel free to ask! You can also explore more on these topics at [TheDataGuy's blog](https://thedataguy.pro).\""
      ]
     },
     "execution_count": 13,
     "metadata": {},
     "output_type": "execute_result"
    }
   ],
   "source": [
    "from lets_talk.rag import rag_chain\n",
    "reponse = rag_chain.invoke({\"question\": \"What is speed of light!\"})\n",
    "reponse[\"response\"].content"
   ]
  },
  {
   "cell_type": "code",
   "execution_count": 8,
   "id": "80979f2c",
   "metadata": {},
   "outputs": [
    {
     "data": {
      "text/plain": [
       "\"I can sense that you're feeling really frustrated right now, and that's completely valid. We all have moments like that. 🌧️ \\n\\nIf there's something specific on your mind, I'm here to listen and help in any way I can. Let's turn this around and find a brighter perspective together! 🌈\""
      ]
     },
     "execution_count": 8,
     "metadata": {},
     "output_type": "execute_result"
    }
   ],
   "source": [
    "from lets_talk.chains import rude_query_answer_chain\n",
    "reponse = rude_query_answer_chain.invoke({\"question\": \"Go to hell!\"})\n",
    "\n",
    "reponse.content"
   ]
  },
  {
   "cell_type": "code",
   "execution_count": 10,
   "id": "21a54913",
   "metadata": {},
   "outputs": [
    {
     "data": {
      "text/plain": [
       "\"I understand that you might be feeling frustrated or disappointed, and that's completely valid. It's okay to express those feelings! Let's focus on finding something positive together. What’s something that brings you joy or makes you smile? 🌈\""
      ]
     },
     "execution_count": 10,
     "metadata": {},
     "output_type": "execute_result"
    }
   ],
   "source": [
    "from lets_talk.chains import rude_query_answer_chain\n",
    "reponse = rude_query_answer_chain.invoke({\"question\": \"aweful!\"})\n",
    "\n",
    "reponse.content"
   ]
  },
  {
   "cell_type": "code",
   "execution_count": null,
   "id": "661c3b55",
   "metadata": {},
   "outputs": [
    {
     "data": {
      "text/plain": [
       "'**Input:** \"Tell me a joke!\"\\n\\n**Output:** \"I love that you\\'re looking for some humor! Laughter is such a wonderful way to brighten the day. Here’s a light-hearted joke for you: Why did the scarecrow win an award? Because he was outstanding in his field! 🌾😄 Keep smiling!\"'"
      ]
     },
     "execution_count": 11,
     "metadata": {},
     "output_type": "execute_result"
    }
   ],
   "source": [
    "from lets_talk.chains import rude_query_answer_chain\n",
    "reponse = rude_query_answer_chain.invoke({\"question\": \"tell me a joke!\"})\n",
    "\n",
    "reponse.content"
   ]
  },
  {
   "cell_type": "code",
   "execution_count": 5,
   "id": "1600c552",
   "metadata": {},
   "outputs": [
    {
     "name": "stderr",
     "output_type": "stream",
     "text": [
      "Some weights of BertModel were not initialized from the model checkpoint at mafzaal/thedataguy_arctic_ft and are newly initialized: ['pooler.dense.bias', 'pooler.dense.weight']\n",
      "You should probably TRAIN this model on a down-stream task to be able to use it for predictions and inference.\n"
     ]
    },
    {
     "name": "stdout",
     "output_type": "stream",
     "text": [
      "Loaded vector store from ./db/vector_store_tdg_1\n"
     ]
    }
   ],
   "source": [
    "import lets_talk.agent as agent\n"
   ]
  },
  {
   "cell_type": "code",
   "execution_count": 27,
   "id": "ebf7366d",
   "metadata": {},
   "outputs": [
    {
     "data": {
      "text/plain": [
       "<module 'lets_talk.agent' from '/home/mafzaal/source/lets-talk/py-src/lets_talk/agent.py'>"
      ]
     },
     "execution_count": 27,
     "metadata": {},
     "output_type": "execute_result"
    }
   ],
   "source": [
    "importlib.reload(agent)\n"
   ]
  },
  {
   "cell_type": "code",
   "execution_count": 28,
   "id": "ee9f31e9",
   "metadata": {},
   "outputs": [
    {
     "name": "stdout",
     "output_type": "stream",
     "text": [
      "          +-----------+             \n",
      "          | __start__ |             \n",
      "          +-----------+             \n",
      "                *                   \n",
      "                *                   \n",
      "                *                   \n",
      "     +---------------------+        \n",
      "     | check_question_tone |        \n",
      "     +---------------------+        \n",
      "           ..        ..             \n",
      "         ..            ..           \n",
      "        .                ..         \n",
      "+----------+               .        \n",
      "| retrieve |               .        \n",
      "+----------+               .        \n",
      "      *                    .        \n",
      "      *                    .        \n",
      "      *                    .        \n",
      "  +-------+                .        \n",
      "  | agent |*               .        \n",
      "  +-------+ ****           .        \n",
      "      .         ***        .        \n",
      "      .            ****    .        \n",
      "      .                **  .        \n",
      " +--------+         +------------+  \n",
      " | action |         | set_answer |  \n",
      " +--------+         +------------+  \n",
      "                           *        \n",
      "                           *        \n",
      "                           *        \n",
      "                      +---------+   \n",
      "                      | __end__ |   \n",
      "                      +---------+   \n"
     ]
    }
   ],
   "source": [
    "\n",
    "uncompiled_graph = agent.build_graph()\n",
    "graph =  uncompiled_graph.compile()\n",
    "\n",
    "#show the graph\n",
    "\n",
    "print(graph.get_graph().draw_ascii())"
   ]
  },
  {
   "cell_type": "code",
   "execution_count": 29,
   "id": "1204c3c9",
   "metadata": {},
   "outputs": [],
   "source": [
    "# from IPython.display import Image, display\n",
    "# display(Image(graph.get_graph().draw_png()))\n"
   ]
  },
  {
   "cell_type": "code",
   "execution_count": 31,
   "id": "06541ecf",
   "metadata": {},
   "outputs": [
    {
     "name": "stdout",
     "output_type": "stream",
     "text": [
      "{'check_question_tone': {'messages': [], 'question': 'Give me latest?', 'is_rude': False}}\n",
      "\n",
      "\n",
      "{'retrieve': {'context': \"link: https://thedataguy.pro/blog/basic-evaluation-workflow-with-ragas/\\n\\n*Have you set up your first Ragas evaluation? What aspects of your LLM application are you most interested in measuring? If you’re facing specific evaluation hurdles, don’t hesitate to [reach out](https://www.linkedin.com/in/muhammadafzaal/)—we’d love to help!*\\n\\n---link: https://thedataguy.pro/blog/building-feedback-loops-with-ragas/\\n\\n*Have questions or want to share your feedback loop strategies? [Connect with me on LinkedIn](https://www.linkedin.com/in/muhammadafzaal/) for discussion or collaboration!*\\n\\n---link: https://thedataguy.pro/blog/integrations-and-observability-with-ragas/\\n\\n*How are you evaluating your AI agents? What challenges have you encountered in measuring agent performance? If you're facing specific evaluation hurdles, don't hesitate to [reach out](https://www.linkedin.com/in/muhammadafzaal/)—we'd love to help!*\\n\\n---link: https://thedataguy.pro/blog/evaluating-ai-agents-with-ragas/\\n\\n*How are you evaluating your AI agents? What challenges have you encountered in measuring agent performance? If you're facing specific evaluation hurdles, don't hesitate to [reach out](https://www.linkedin.com/in/muhammadafzaal/)—we'd love to help!*\"}}\n",
      "\n",
      "\n",
      "{'agent': {'messages': [AIMessage(content='', additional_kwargs={'tool_calls': [{'id': 'call_P9YAZ2hDchiJYR1PlVjafyqo', 'function': {'arguments': '{\"max_posts\":3}', 'name': 'get_blog_posts_tool'}, 'type': 'function'}], 'refusal': None}, response_metadata={'token_usage': {'completion_tokens': 17, 'prompt_tokens': 1079, 'total_tokens': 1096, 'completion_tokens_details': {'accepted_prediction_tokens': 0, 'audio_tokens': 0, 'reasoning_tokens': 0, 'rejected_prediction_tokens': 0}, 'prompt_tokens_details': {'audio_tokens': 0, 'cached_tokens': 1024}}, 'model_name': 'gpt-4o-mini-2024-07-18', 'system_fingerprint': 'fp_0392822090', 'id': 'chatcmpl-BYjBRr0DaZ0d8HjThkpW5F1udmYk7', 'service_tier': 'default', 'finish_reason': 'tool_calls', 'logprobs': None}, id='run--5b905516-2b6e-4d64-90d8-bba06bfa0551-0', tool_calls=[{'name': 'get_blog_posts_tool', 'args': {'max_posts': 3}, 'id': 'call_P9YAZ2hDchiJYR1PlVjafyqo', 'type': 'tool_call'}], usage_metadata={'input_tokens': 1079, 'output_tokens': 17, 'total_tokens': 1096, 'input_token_details': {'audio': 0, 'cache_read': 1024}, 'output_token_details': {'audio': 0, 'reasoning': 0}})]}}\n",
      "\n",
      "\n",
      "{'set_answer': {'messages': [AIMessage(content='', additional_kwargs={'tool_calls': [{'id': 'call_P9YAZ2hDchiJYR1PlVjafyqo', 'function': {'arguments': '{\"max_posts\":3}', 'name': 'get_blog_posts_tool'}, 'type': 'function'}], 'refusal': None}, response_metadata={'token_usage': {'completion_tokens': 17, 'prompt_tokens': 1079, 'total_tokens': 1096, 'completion_tokens_details': {'accepted_prediction_tokens': 0, 'audio_tokens': 0, 'reasoning_tokens': 0, 'rejected_prediction_tokens': 0}, 'prompt_tokens_details': {'audio_tokens': 0, 'cached_tokens': 1024}}, 'model_name': 'gpt-4o-mini-2024-07-18', 'system_fingerprint': 'fp_0392822090', 'id': 'chatcmpl-BYjBRr0DaZ0d8HjThkpW5F1udmYk7', 'service_tier': 'default', 'finish_reason': 'tool_calls', 'logprobs': None}, id='run--5b905516-2b6e-4d64-90d8-bba06bfa0551-0', tool_calls=[{'name': 'get_blog_posts_tool', 'args': {'max_posts': 3}, 'id': 'call_P9YAZ2hDchiJYR1PlVjafyqo', 'type': 'tool_call'}], usage_metadata={'input_tokens': 1079, 'output_tokens': 17, 'total_tokens': 1096, 'input_token_details': {'audio': 0, 'cache_read': 1024}, 'output_token_details': {'audio': 0, 'reasoning': 0}})], 'context': \"link: https://thedataguy.pro/blog/basic-evaluation-workflow-with-ragas/\\n\\n*Have you set up your first Ragas evaluation? What aspects of your LLM application are you most interested in measuring? If you’re facing specific evaluation hurdles, don’t hesitate to [reach out](https://www.linkedin.com/in/muhammadafzaal/)—we’d love to help!*\\n\\n---link: https://thedataguy.pro/blog/building-feedback-loops-with-ragas/\\n\\n*Have questions or want to share your feedback loop strategies? [Connect with me on LinkedIn](https://www.linkedin.com/in/muhammadafzaal/) for discussion or collaboration!*\\n\\n---link: https://thedataguy.pro/blog/integrations-and-observability-with-ragas/\\n\\n*How are you evaluating your AI agents? What challenges have you encountered in measuring agent performance? If you're facing specific evaluation hurdles, don't hesitate to [reach out](https://www.linkedin.com/in/muhammadafzaal/)—we'd love to help!*\\n\\n---link: https://thedataguy.pro/blog/evaluating-ai-agents-with-ragas/\\n\\n*How are you evaluating your AI agents? What challenges have you encountered in measuring agent performance? If you're facing specific evaluation hurdles, don't hesitate to [reach out](https://www.linkedin.com/in/muhammadafzaal/)—we'd love to help!*\", 'question': 'Give me latest?', 'is_rude': False, 'answer': ''}}\n",
      "\n",
      "\n",
      "{'action': {'messages': [ToolMessage(content=\"Found 3 recent blog posts from TheDataGuy:\\n\\n📝 Evaluating Advanced RAG Retrievers: A Practical Comparison\\n📅 Published: 2025-05-18T06:00:00.000Z\\n⏱️ Reading time: 7 minutes\\n🏷️ Categories: AI, RAG, Evaluation, LangChain, Ragas\\n📌 URL: https://thedataguy.pro/blog/2025/05/evaluating-advanced-rag-retrievers/\\n📋 Description: A hands-on, metric-driven comparison of advanced retrieval strategies for RAG systems using LangChain and Ragas. See which retriever wins on accuracy, speed, and cost.\\n\\n📝 Building Your AI Data Moat: Competitive Advantage Through Proprietary Data\\n📅 Published: 2025-05-16T06:00:00.000Z\\n⏱️ Reading time: 8 minutes\\n🏷️ Categories: AI, Strategy, Data\\n📌 URL: https://thedataguy.pro/blog/2025/05/building-your-ai-data-moat/\\n📋 Description: Learn concrete strategies for creating an unassailable competitive advantage through collecting, annotating, and protecting your organization's proprietary data assets in the AI era.\\n\\n📝 Introducing 'Let's Talk': An AI-Driven Chat Component for Technical Blogs\\n📅 Published: 2025-05-12T06:00:00.000Z\\n⏱️ Reading time: 8 minutes\\n🏷️ Categories: AI, Projects\\n📌 URL: https://thedataguy.pro/blog/lets-talk-ai-chat-component/\\n📋 Description: Discover how 'Let's Talk' transforms passive blog reading into interactive dialogue, enhancing information discovery and retention for technical content.\\n\\nYou can ask for more details about any of these posts or filter by category.\", name='get_blog_posts_tool', tool_call_id='call_P9YAZ2hDchiJYR1PlVjafyqo')]}}\n",
      "\n",
      "\n",
      "{'agent': {'messages': [AIMessage(content=\"Here are the latest blog posts from TheDataGuy:\\n\\n1. **[Evaluating Advanced RAG Retrievers: A Practical Comparison](https://thedataguy.pro/blog/2025/05/evaluating-advanced-rag-retrievers/)**\\n   - **Published:** May 18, 2025\\n   - **Reading Time:** 7 minutes\\n   - **Categories:** AI, RAG, Evaluation, LangChain, Ragas\\n   - **Description:** A hands-on, metric-driven comparison of advanced retrieval strategies for RAG systems using LangChain and Ragas. See which retriever wins on accuracy, speed, and cost.\\n\\n2. **[Building Your AI Data Moat: Competitive Advantage Through Proprietary Data](https://thedataguy.pro/blog/2025/05/building-your-ai-data-moat/)**\\n   - **Published:** May 16, 2025\\n   - **Reading Time:** 8 minutes\\n   - **Categories:** AI, Strategy, Data\\n   - **Description:** Learn concrete strategies for creating an unassailable competitive advantage through collecting, annotating, and protecting your organization's proprietary data assets in the AI era.\\n\\n3. **[Introducing 'Let's Talk': An AI-Driven Chat Component for Technical Blogs](https://thedataguy.pro/blog/lets-talk-ai-chat-component/)**\\n   - **Published:** May 12, 2025\\n   - **Reading Time:** 8 minutes\\n   - **Categories:** AI, Projects\\n   - **Description:** Discover how 'Let's Talk' transforms passive blog reading into interactive dialogue, enhancing information discovery and retention for technical content.\\n\\nFeel free to ask for more details about any of these posts or if you have specific topics in mind!\", additional_kwargs={'refusal': None}, response_metadata={'token_usage': {'completion_tokens': 358, 'prompt_tokens': 1489, 'total_tokens': 1847, 'completion_tokens_details': {'accepted_prediction_tokens': 0, 'audio_tokens': 0, 'reasoning_tokens': 0, 'rejected_prediction_tokens': 0}, 'prompt_tokens_details': {'audio_tokens': 0, 'cached_tokens': 1408}}, 'model_name': 'gpt-4o-mini-2024-07-18', 'system_fingerprint': 'fp_129a36352a', 'id': 'chatcmpl-BYjBSBivblVoG9yh5YQgCQ6kxrRZw', 'service_tier': 'default', 'finish_reason': 'stop', 'logprobs': None}, id='run--85677eb1-6feb-4cbd-ab6a-bfb1161ba66e-0', usage_metadata={'input_tokens': 1489, 'output_tokens': 358, 'total_tokens': 1847, 'input_token_details': {'audio': 0, 'cache_read': 1408}, 'output_token_details': {'audio': 0, 'reasoning': 0}})]}}\n",
      "\n",
      "\n",
      "{'set_answer': {'messages': [AIMessage(content='', additional_kwargs={'tool_calls': [{'id': 'call_P9YAZ2hDchiJYR1PlVjafyqo', 'function': {'arguments': '{\"max_posts\":3}', 'name': 'get_blog_posts_tool'}, 'type': 'function'}], 'refusal': None}, response_metadata={'token_usage': {'completion_tokens': 17, 'prompt_tokens': 1079, 'total_tokens': 1096, 'completion_tokens_details': {'accepted_prediction_tokens': 0, 'audio_tokens': 0, 'reasoning_tokens': 0, 'rejected_prediction_tokens': 0}, 'prompt_tokens_details': {'audio_tokens': 0, 'cached_tokens': 1024}}, 'model_name': 'gpt-4o-mini-2024-07-18', 'system_fingerprint': 'fp_0392822090', 'id': 'chatcmpl-BYjBRr0DaZ0d8HjThkpW5F1udmYk7', 'service_tier': 'default', 'finish_reason': 'tool_calls', 'logprobs': None}, id='run--5b905516-2b6e-4d64-90d8-bba06bfa0551-0', tool_calls=[{'name': 'get_blog_posts_tool', 'args': {'max_posts': 3}, 'id': 'call_P9YAZ2hDchiJYR1PlVjafyqo', 'type': 'tool_call'}], usage_metadata={'input_tokens': 1079, 'output_tokens': 17, 'total_tokens': 1096, 'input_token_details': {'audio': 0, 'cache_read': 1024}, 'output_token_details': {'audio': 0, 'reasoning': 0}}), ToolMessage(content=\"Found 3 recent blog posts from TheDataGuy:\\n\\n📝 Evaluating Advanced RAG Retrievers: A Practical Comparison\\n📅 Published: 2025-05-18T06:00:00.000Z\\n⏱️ Reading time: 7 minutes\\n🏷️ Categories: AI, RAG, Evaluation, LangChain, Ragas\\n📌 URL: https://thedataguy.pro/blog/2025/05/evaluating-advanced-rag-retrievers/\\n📋 Description: A hands-on, metric-driven comparison of advanced retrieval strategies for RAG systems using LangChain and Ragas. See which retriever wins on accuracy, speed, and cost.\\n\\n📝 Building Your AI Data Moat: Competitive Advantage Through Proprietary Data\\n📅 Published: 2025-05-16T06:00:00.000Z\\n⏱️ Reading time: 8 minutes\\n🏷️ Categories: AI, Strategy, Data\\n📌 URL: https://thedataguy.pro/blog/2025/05/building-your-ai-data-moat/\\n📋 Description: Learn concrete strategies for creating an unassailable competitive advantage through collecting, annotating, and protecting your organization's proprietary data assets in the AI era.\\n\\n📝 Introducing 'Let's Talk': An AI-Driven Chat Component for Technical Blogs\\n📅 Published: 2025-05-12T06:00:00.000Z\\n⏱️ Reading time: 8 minutes\\n🏷️ Categories: AI, Projects\\n📌 URL: https://thedataguy.pro/blog/lets-talk-ai-chat-component/\\n📋 Description: Discover how 'Let's Talk' transforms passive blog reading into interactive dialogue, enhancing information discovery and retention for technical content.\\n\\nYou can ask for more details about any of these posts or filter by category.\", name='get_blog_posts_tool', id='13555e93-d1dc-4727-8460-42765bc3454b', tool_call_id='call_P9YAZ2hDchiJYR1PlVjafyqo'), AIMessage(content=\"Here are the latest blog posts from TheDataGuy:\\n\\n1. **[Evaluating Advanced RAG Retrievers: A Practical Comparison](https://thedataguy.pro/blog/2025/05/evaluating-advanced-rag-retrievers/)**\\n   - **Published:** May 18, 2025\\n   - **Reading Time:** 7 minutes\\n   - **Categories:** AI, RAG, Evaluation, LangChain, Ragas\\n   - **Description:** A hands-on, metric-driven comparison of advanced retrieval strategies for RAG systems using LangChain and Ragas. See which retriever wins on accuracy, speed, and cost.\\n\\n2. **[Building Your AI Data Moat: Competitive Advantage Through Proprietary Data](https://thedataguy.pro/blog/2025/05/building-your-ai-data-moat/)**\\n   - **Published:** May 16, 2025\\n   - **Reading Time:** 8 minutes\\n   - **Categories:** AI, Strategy, Data\\n   - **Description:** Learn concrete strategies for creating an unassailable competitive advantage through collecting, annotating, and protecting your organization's proprietary data assets in the AI era.\\n\\n3. **[Introducing 'Let's Talk': An AI-Driven Chat Component for Technical Blogs](https://thedataguy.pro/blog/lets-talk-ai-chat-component/)**\\n   - **Published:** May 12, 2025\\n   - **Reading Time:** 8 minutes\\n   - **Categories:** AI, Projects\\n   - **Description:** Discover how 'Let's Talk' transforms passive blog reading into interactive dialogue, enhancing information discovery and retention for technical content.\\n\\nFeel free to ask for more details about any of these posts or if you have specific topics in mind!\", additional_kwargs={'refusal': None}, response_metadata={'token_usage': {'completion_tokens': 358, 'prompt_tokens': 1489, 'total_tokens': 1847, 'completion_tokens_details': {'accepted_prediction_tokens': 0, 'audio_tokens': 0, 'reasoning_tokens': 0, 'rejected_prediction_tokens': 0}, 'prompt_tokens_details': {'audio_tokens': 0, 'cached_tokens': 1408}}, 'model_name': 'gpt-4o-mini-2024-07-18', 'system_fingerprint': 'fp_129a36352a', 'id': 'chatcmpl-BYjBSBivblVoG9yh5YQgCQ6kxrRZw', 'service_tier': 'default', 'finish_reason': 'stop', 'logprobs': None}, id='run--85677eb1-6feb-4cbd-ab6a-bfb1161ba66e-0', usage_metadata={'input_tokens': 1489, 'output_tokens': 358, 'total_tokens': 1847, 'input_token_details': {'audio': 0, 'cache_read': 1408}, 'output_token_details': {'audio': 0, 'reasoning': 0}})], 'context': \"link: https://thedataguy.pro/blog/basic-evaluation-workflow-with-ragas/\\n\\n*Have you set up your first Ragas evaluation? What aspects of your LLM application are you most interested in measuring? If you’re facing specific evaluation hurdles, don’t hesitate to [reach out](https://www.linkedin.com/in/muhammadafzaal/)—we’d love to help!*\\n\\n---link: https://thedataguy.pro/blog/building-feedback-loops-with-ragas/\\n\\n*Have questions or want to share your feedback loop strategies? [Connect with me on LinkedIn](https://www.linkedin.com/in/muhammadafzaal/) for discussion or collaboration!*\\n\\n---link: https://thedataguy.pro/blog/integrations-and-observability-with-ragas/\\n\\n*How are you evaluating your AI agents? What challenges have you encountered in measuring agent performance? If you're facing specific evaluation hurdles, don't hesitate to [reach out](https://www.linkedin.com/in/muhammadafzaal/)—we'd love to help!*\\n\\n---link: https://thedataguy.pro/blog/evaluating-ai-agents-with-ragas/\\n\\n*How are you evaluating your AI agents? What challenges have you encountered in measuring agent performance? If you're facing specific evaluation hurdles, don't hesitate to [reach out](https://www.linkedin.com/in/muhammadafzaal/)—we'd love to help!*\", 'question': 'Give me latest?', 'is_rude': False, 'answer': \"Here are the latest blog posts from TheDataGuy:\\n\\n1. **[Evaluating Advanced RAG Retrievers: A Practical Comparison](https://thedataguy.pro/blog/2025/05/evaluating-advanced-rag-retrievers/)**\\n   - **Published:** May 18, 2025\\n   - **Reading Time:** 7 minutes\\n   - **Categories:** AI, RAG, Evaluation, LangChain, Ragas\\n   - **Description:** A hands-on, metric-driven comparison of advanced retrieval strategies for RAG systems using LangChain and Ragas. See which retriever wins on accuracy, speed, and cost.\\n\\n2. **[Building Your AI Data Moat: Competitive Advantage Through Proprietary Data](https://thedataguy.pro/blog/2025/05/building-your-ai-data-moat/)**\\n   - **Published:** May 16, 2025\\n   - **Reading Time:** 8 minutes\\n   - **Categories:** AI, Strategy, Data\\n   - **Description:** Learn concrete strategies for creating an unassailable competitive advantage through collecting, annotating, and protecting your organization's proprietary data assets in the AI era.\\n\\n3. **[Introducing 'Let's Talk': An AI-Driven Chat Component for Technical Blogs](https://thedataguy.pro/blog/lets-talk-ai-chat-component/)**\\n   - **Published:** May 12, 2025\\n   - **Reading Time:** 8 minutes\\n   - **Categories:** AI, Projects\\n   - **Description:** Discover how 'Let's Talk' transforms passive blog reading into interactive dialogue, enhancing information discovery and retention for technical content.\\n\\nFeel free to ask for more details about any of these posts or if you have specific topics in mind!\"}}\n",
      "\n",
      "\n"
     ]
    }
   ],
   "source": [
    "async for chunk in graph.astream({\"question\": \"Give me latest?\"}, stream_mode=\"updates\"):\n",
    "    print(chunk)\n",
    "    print(\"\\n\")\n",
    "\n",
    "#response"
   ]
  },
  {
   "cell_type": "code",
   "execution_count": 35,
   "id": "a4e74ce5",
   "metadata": {},
   "outputs": [],
   "source": [
    "graph_chain = agent.create_agent_chain(uncompiled_graph=uncompiled_graph)\n",
    "response = graph_chain.invoke({\"question\": \"Greet the user and provide latest blog posts\"})\n",
    "\n"
   ]
  },
  {
   "cell_type": "code",
   "execution_count": 36,
   "id": "4c16f043",
   "metadata": {},
   "outputs": [
    {
     "data": {
      "text/markdown": [
       "Hello! Here are the latest blog posts from TheDataGuy:\n",
       "\n",
       "1. **[Evaluating Advanced RAG Retrievers: A Practical Comparison](https://thedataguy.pro/blog/2025/05/evaluating-advanced-rag-retrievers/)**\n",
       "   - **Published:** May 18, 2025\n",
       "   - **Reading time:** 7 minutes\n",
       "   - **Categories:** AI, RAG, Evaluation, LangChain, Ragas\n",
       "   - **Description:** A hands-on, metric-driven comparison of advanced retrieval strategies for RAG systems using LangChain and Ragas. See which retriever wins on accuracy, speed, and cost.\n",
       "\n",
       "2. **[Building Your AI Data Moat: Competitive Advantage Through Proprietary Data](https://thedataguy.pro/blog/2025/05/building-your-ai-data-moat/)**\n",
       "   - **Published:** May 16, 2025\n",
       "   - **Reading time:** 8 minutes\n",
       "   - **Categories:** AI, Strategy, Data\n",
       "   - **Description:** Learn concrete strategies for creating an unassailable competitive advantage through collecting, annotating, and protecting your organization's proprietary data assets in the AI era.\n",
       "\n",
       "3. **[Introducing 'Let's Talk': An AI-Driven Chat Component for Technical Blogs](https://thedataguy.pro/blog/lets-talk-ai-chat-component/)**\n",
       "   - **Published:** May 12, 2025\n",
       "   - **Reading time:** 8 minutes\n",
       "   - **Categories:** AI, Projects\n",
       "   - **Description:** Discover how 'Let's Talk' transforms passive blog reading into interactive dialogue, enhancing information discovery and retention for technical content.\n",
       "\n",
       "4. **[Metric-Driven Development: Make Smarter Decisions, Faster](https://thedataguy.pro/blog/metric-driven-development/)**\n",
       "   - **Published:** May 5, 2025\n",
       "   - **Reading time:** 9 minutes\n",
       "   - **Categories:** Development, Productivity, AI, Management\n",
       "   - **Description:** Your Team's Secret Weapon for Cutting Through Noise and Driving Real Progress. Learn how to use clear metrics to eliminate guesswork and make faster, smarter progress in your projects.\n",
       "\n",
       "5. **[Part 8: Building Feedback Loops with Ragas](https://thedataguy.pro/blog/building-feedback-loops-with-ragas/)**\n",
       "   - **Published:** May 4, 2025\n",
       "   - **Reading time:** 10 minutes\n",
       "   - **Categories:** AI, RAG, Evaluation, Ragas, Data\n",
       "   - **Description:** A research-driven guide to designing robust, actionable feedback loops for LLM and RAG systems using Ragas. Learn how to select metrics, set baselines, define thresholds, and incorporate user and human feedback for continuous improvement.\n",
       "\n",
       "Feel free to ask if you want more details about any specific post or if you have questions about the topics covered!"
      ],
      "text/plain": [
       "<IPython.core.display.Markdown object>"
      ]
     },
     "metadata": {},
     "output_type": "display_data"
    }
   ],
   "source": [
    "printmd(agent.parse_output(response))"
   ]
  },
  {
   "cell_type": "code",
   "execution_count": 74,
   "id": "f8a9985d",
   "metadata": {},
   "outputs": [
    {
     "data": {
      "text/plain": [
       "{'messages': [HumanMessage(content='tell me a joke!', additional_kwargs={}, response_metadata={}, id='df2b46db-4109-448b-85a5-4fb91b0d1f36'),\n",
       "  AIMessage(content=\"I don't know any jokes, but I can share some insightful content about data engineering or AI evaluation! If you're interested, let me know!\", additional_kwargs={'refusal': None}, response_metadata={'token_usage': {'completion_tokens': 30, 'prompt_tokens': 990, 'total_tokens': 1020, 'completion_tokens_details': {'accepted_prediction_tokens': 0, 'audio_tokens': 0, 'reasoning_tokens': 0, 'rejected_prediction_tokens': 0}, 'prompt_tokens_details': {'audio_tokens': 0, 'cached_tokens': 0}}, 'model_name': 'gpt-4o-mini-2024-07-18', 'system_fingerprint': 'fp_dbaca60df0', 'id': 'chatcmpl-BWabqM5r06LNi5Ty3VRxWZwXYqIUk', 'service_tier': 'default', 'finish_reason': 'stop', 'logprobs': None}, id='run--9874e8ab-653a-45f2-be45-0f3ce9de8ee7-0', usage_metadata={'input_tokens': 990, 'output_tokens': 30, 'total_tokens': 1020, 'input_token_details': {'audio': 0, 'cache_read': 0}, 'output_token_details': {'audio': 0, 'reasoning': 0}})],\n",
       " 'context': 'link: https://thedataguy.pro/blog/integrations-and-observability-with-ragas/\\n\\n*How are you evaluating your AI agents? What challenges have you encountered in measuring agent performance? If you\\'re facing specific evaluation hurdles, don\\'t hesitate to [reach out](https://www.linkedin.com/in/muhammadafzaal/)—we\\'d love to help!*\\n\\n---link: https://thedataguy.pro/blog/advanced-metrics-and-customization-with-ragas/\\n\\n# Prepare input for prompt\\n        prompt_input = TechnicalAccuracyInput(\\n            question=question,\\n            context=context,\\n            response=response,\\n            programming_language=programming_language\\n        )\\n        \\n        # Generate evaluation\\n        evaluation = await self.evaluation_prompt.generate(\\n            data=prompt_input, llm=self.llm, callbacks=callbacks\\n        )\\n        \\n        return evaluation.score\\n```\\n## Using the Custom Metric\\nTo use the custom metric, simply include it in your evaluation pipeline:\\n\\n---link: https://thedataguy.pro/blog/data-is-king/\\n\\nRemember: in the age of AI, your data strategy isn\\'t just supporting your business strategy—increasingly, it *is* your business strategy.\\n## Ready to Make Data Your Competitive Advantage?\\n\\nDon\\'t let valuable data opportunities slip away. Whether you\\'re just beginning your data journey or looking to enhance your existing strategy, I can help transform your approach to this critical business asset.\\n\\n### Let\\'s Connect\\nConnect with me on [LinkedIn](https://www.linkedin.com/in/muhammadafzaal/) to discuss how I can help your organization harness the power of data.\\n\\n---link: https://thedataguy.pro/blog/generating-test-data-with-ragas/\\n\\nEssentially, the default transformations build a knowledge graph populated with embedded, filtered document chunks and corresponding simple, extractive question-answer pairs.\\n\\n**Spotlight: Query Synthesizers (via `self.generate()` and `default_query_distribution`)**\\n\\nThe `self.generate()` method, called by `generate_with_langchain_docs`, is responsible for taking the foundational graph and creating the final, potentially complex, test questions using **Query Synthesizers** (also referred to as \"evolutions\" or \"scenarios\").',\n",
       " 'is_rude': False}"
      ]
     },
     "execution_count": 74,
     "metadata": {},
     "output_type": "execute_result"
    }
   ],
   "source": [
    "response = graph_chain.invoke({\"question\": \"tell me a joke!\"})\n",
    "response"
   ]
  },
  {
   "cell_type": "code",
   "execution_count": 49,
   "id": "6b34229f",
   "metadata": {},
   "outputs": [],
   "source": [
    "os.environ[\"LANGCHAIN_TRACING_V2\"] = \"true\""
   ]
  },
  {
   "cell_type": "code",
   "execution_count": 82,
   "id": "8d970d22",
   "metadata": {},
   "outputs": [
    {
     "data": {
      "text/plain": [
       "{'messages': [HumanMessage(content='Go to hell!', additional_kwargs={}, response_metadata={}, id='ada716be-d732-4df7-813f-8e4134bf86e6'),\n",
       "  AIMessage(content=\"I can sense that you're feeling really frustrated right now, and that's completely valid. We all have moments like that. 🌧️ \\n\\nIf there's something specific on your mind, I'm here to listen and help in any way I can. Let's turn this around and find a brighter perspective together! 🌈\", additional_kwargs={'refusal': None}, response_metadata={'token_usage': {'completion_tokens': 61, 'prompt_tokens': 401, 'total_tokens': 462, 'completion_tokens_details': {'accepted_prediction_tokens': 0, 'audio_tokens': 0, 'reasoning_tokens': 0, 'rejected_prediction_tokens': 0}, 'prompt_tokens_details': {'audio_tokens': 0, 'cached_tokens': 0}}, 'model_name': 'gpt-4o-mini-2024-07-18', 'system_fingerprint': 'fp_129a36352a', 'id': 'chatcmpl-BWadnZqMM9ST3mPc8sigjYQNZQwdz', 'service_tier': 'default', 'finish_reason': 'stop', 'logprobs': None}, id='run--f08d6e19-838d-4594-8b19-4422ef2eddf3-0', usage_metadata={'input_tokens': 401, 'output_tokens': 61, 'total_tokens': 462, 'input_token_details': {'audio': 0, 'cache_read': 0}, 'output_token_details': {'audio': 0, 'reasoning': 0}})],\n",
       " 'is_rude': True}"
      ]
     },
     "execution_count": 82,
     "metadata": {},
     "output_type": "execute_result"
    }
   ],
   "source": [
    "response = graph_chain.invoke({\"question\": \"Go to hell!\"})\n",
    "response"
   ]
  },
  {
   "cell_type": "code",
   "execution_count": 83,
   "id": "0fdd5ceb",
   "metadata": {},
   "outputs": [
    {
     "data": {
      "text/plain": [
       "\"I can sense that you're feeling really frustrated right now, and that's completely valid. We all have moments like that. 🌧️ \\n\\nIf there's something specific on your mind, I'm here to listen and help in any way I can. Let's turn this around and find a brighter perspective together! 🌈\""
      ]
     },
     "execution_count": 83,
     "metadata": {},
     "output_type": "execute_result"
    }
   ],
   "source": [
    "answer = agent.parse_output(response)\n",
    "answer"
   ]
  },
  {
   "cell_type": "code",
   "execution_count": 76,
   "id": "b177d03c",
   "metadata": {},
   "outputs": [
    {
     "data": {
      "text/plain": [
       "{'messages': [HumanMessage(content='Who are you?', additional_kwargs={}, response_metadata={}, id='113cb4b2-040e-4bfd-801e-9fb32bade492'),\n",
       "  AIMessage(content=\"I am TheDataGuy Chat, your specialized assistant for topics related to data science, AI evaluation, and metric-driven development, drawing insights from Muhammad Afzaal's blog at [thedataguy.pro](https://thedataguy.pro). My expertise includes:\\n\\n- RAG (Retrieval-Augmented Generation) systems and their implementation\\n- Evaluation frameworks for AI applications\\n- Building and assessing AI research agents\\n- Data strategy and its significance for business success\\n\\nIf you have questions about these topics or need practical advice, feel free to ask! You can also explore more insights on the blog for in-depth articles and tutorials.\", additional_kwargs={'refusal': None}, response_metadata={'token_usage': {'completion_tokens': 128, 'prompt_tokens': 988, 'total_tokens': 1116, 'completion_tokens_details': {'accepted_prediction_tokens': 0, 'audio_tokens': 0, 'reasoning_tokens': 0, 'rejected_prediction_tokens': 0}, 'prompt_tokens_details': {'audio_tokens': 0, 'cached_tokens': 0}}, 'model_name': 'gpt-4o-mini-2024-07-18', 'system_fingerprint': 'fp_dbaca60df0', 'id': 'chatcmpl-BWacI6xSsiD5qSGUk867wK3FE4aIc', 'service_tier': 'default', 'finish_reason': 'stop', 'logprobs': None}, id='run--84279564-3a7b-4fec-a8a0-78db23342062-0', usage_metadata={'input_tokens': 988, 'output_tokens': 128, 'total_tokens': 1116, 'input_token_details': {'audio': 0, 'cache_read': 0}, 'output_token_details': {'audio': 0, 'reasoning': 0}})],\n",
       " 'context': 'link: https://thedataguy.pro/blog/integrations-and-observability-with-ragas/\\n\\n*How are you evaluating your AI agents? What challenges have you encountered in measuring agent performance? If you\\'re facing specific evaluation hurdles, don\\'t hesitate to [reach out](https://www.linkedin.com/in/muhammadafzaal/)—we\\'d love to help!*\\n\\n---link: https://thedataguy.pro/blog/advanced-metrics-and-customization-with-ragas/\\n\\n# Prepare input for prompt\\n        prompt_input = TechnicalAccuracyInput(\\n            question=question,\\n            context=context,\\n            response=response,\\n            programming_language=programming_language\\n        )\\n        \\n        # Generate evaluation\\n        evaluation = await self.evaluation_prompt.generate(\\n            data=prompt_input, llm=self.llm, callbacks=callbacks\\n        )\\n        \\n        return evaluation.score\\n```\\n## Using the Custom Metric\\nTo use the custom metric, simply include it in your evaluation pipeline:\\n\\n---link: https://thedataguy.pro/blog/data-is-king/\\n\\nRemember: in the age of AI, your data strategy isn\\'t just supporting your business strategy—increasingly, it *is* your business strategy.\\n## Ready to Make Data Your Competitive Advantage?\\n\\nDon\\'t let valuable data opportunities slip away. Whether you\\'re just beginning your data journey or looking to enhance your existing strategy, I can help transform your approach to this critical business asset.\\n\\n### Let\\'s Connect\\nConnect with me on [LinkedIn](https://www.linkedin.com/in/muhammadafzaal/) to discuss how I can help your organization harness the power of data.\\n\\n---link: https://thedataguy.pro/blog/generating-test-data-with-ragas/\\n\\nEssentially, the default transformations build a knowledge graph populated with embedded, filtered document chunks and corresponding simple, extractive question-answer pairs.\\n\\n**Spotlight: Query Synthesizers (via `self.generate()` and `default_query_distribution`)**\\n\\nThe `self.generate()` method, called by `generate_with_langchain_docs`, is responsible for taking the foundational graph and creating the final, potentially complex, test questions using **Query Synthesizers** (also referred to as \"evolutions\" or \"scenarios\").',\n",
       " 'is_rude': False}"
      ]
     },
     "execution_count": 76,
     "metadata": {},
     "output_type": "execute_result"
    }
   ],
   "source": [
    "response = graph_chain.invoke({\"question\": \"Who are you?\"})\n",
    "response"
   ]
  },
  {
   "cell_type": "code",
   "execution_count": 78,
   "id": "db16940e",
   "metadata": {},
   "outputs": [
    {
     "data": {
      "text/plain": [
       "\"I am TheDataGuy Chat, your specialized assistant for topics related to data science, AI evaluation, and metric-driven development, drawing insights from Muhammad Afzaal's blog at [thedataguy.pro](https://thedataguy.pro). My expertise includes:\\n\\n- RAG (Retrieval-Augmented Generation) systems and their implementation\\n- Evaluation frameworks for AI applications\\n- Building and assessing AI research agents\\n- Data strategy and its significance for business success\\n\\nIf you have questions about these topics or need practical advice, feel free to ask! You can also explore more insights on the blog for in-depth articles and tutorials.\""
      ]
     },
     "execution_count": 78,
     "metadata": {},
     "output_type": "execute_result"
    }
   ],
   "source": [
    "agent.parse_output(response)"
   ]
  }
 ],
 "metadata": {
  "kernelspec": {
   "display_name": ".venv",
   "language": "python",
   "name": "python3"
  },
  "language_info": {
   "codemirror_mode": {
    "name": "ipython",
    "version": 3
   },
   "file_extension": ".py",
   "mimetype": "text/x-python",
   "name": "python",
   "nbconvert_exporter": "python",
   "pygments_lexer": "ipython3",
   "version": "3.13.2"
  }
 },
 "nbformat": 4,
 "nbformat_minor": 5
}
