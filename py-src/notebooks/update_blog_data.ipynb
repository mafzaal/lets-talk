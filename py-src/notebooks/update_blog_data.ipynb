{
 "cells": [
  {
   "cell_type": "markdown",
   "id": "b1a955e7",
   "metadata": {},
   "source": [
    "# Update Blog Data\n",
    "\n",
    "This notebook demonstrates how to update the blog data and vector store when new blog posts are published. It uses the utility functions from `utils_data_loading.ipynb`."
   ]
  },
  {
   "cell_type": "code",
   "execution_count": null,
   "id": "6ec048b4",
   "metadata": {},
   "outputs": [],
   "source": [
    "import sys\n",
    "import os\n",
    "from pathlib import Path\n",
    "from dotenv import load_dotenv\n",
    "\n",
    "load_dotenv()\n",
    "import sys\n",
    "import os\n",
    "\n",
    "# Add the project root to the Python path\n",
    "package_root = os.path.abspath(os.path.join(os.getcwd(), \"../\"))\n",
    "print(f\"Adding package root to sys.path: {package_root}\")\n",
    "if package_root not in sys.path:\n",
    "\tsys.path.append(package_root)\n"
   ]
  },
  {
   "cell_type": "code",
   "execution_count": null,
   "id": "7a7a9f3f",
   "metadata": {},
   "outputs": [],
   "source": [
    "notebook_dir = os.getcwd()\n",
    "print(f\"Current notebook directory: {notebook_dir}\")\n",
    "# change to the directory to the root of the project\n",
    "project_root = os.path.abspath(os.path.join(os.getcwd(), \"../../\"))\n",
    "print(f\"Project root: {project_root}\")\n",
    "os.chdir(project_root)"
   ]
  },
  {
   "cell_type": "markdown",
   "id": "cc19ab4c",
   "metadata": {},
   "source": [
    "## Update Blog Data Process\n",
    "\n",
    "This process will:\n",
    "1. Load existing blog posts\n",
    "2. Process and update metadata\n",
    "3. Create or update vector embeddings"
   ]
  },
  {
   "cell_type": "code",
   "execution_count": null,
   "id": "3d56f688",
   "metadata": {},
   "outputs": [],
   "source": [
    "import lets_talk.utils.blog as  blog_utils\n",
    "docs = blog_utils.load_blog_posts(data_dir=\"/home/mafzaal/source/mafzaal.github.io/posts\",glob_pattern=\"index.md\")\n",
    "\n",
    "\n"
   ]
  },
  {
   "cell_type": "code",
   "execution_count": null,
   "id": "5f199240",
   "metadata": {},
   "outputs": [],
   "source": [
    "#write code to get docs by source \n",
    "docs_by_source = {}\n",
    "for doc in docs:\n",
    "    source = doc.metadata.get(\"source\", \"unknown\")\n",
    "    if source not in docs_by_source:\n",
    "        docs_by_source[source] = []\n",
    "    docs_by_source[source].append(doc)"
   ]
  },
  {
   "cell_type": "code",
   "execution_count": null,
   "id": "d5491c0a",
   "metadata": {},
   "outputs": [],
   "source": [
    "docs_by_source['/home/mafzaal/source/mafzaal.github.io/posts/introduction-to-ragas/index.md']"
   ]
  },
  {
   "cell_type": "code",
   "execution_count": null,
   "id": "2ca1bc5b",
   "metadata": {},
   "outputs": [],
   "source": [
    "docs_with_data = blog_utils.update_document_metadata(docs,data_dir_prefix=\"/home/mafzaal/source/mafzaal.github.io/posts/\")"
   ]
  },
  {
   "cell_type": "code",
   "execution_count": null,
   "id": "35908dd4",
   "metadata": {},
   "outputs": [],
   "source": [
    "docs_with_data"
   ]
  },
  {
   "cell_type": "code",
   "execution_count": null,
   "id": "13be7678",
   "metadata": {},
   "outputs": [],
   "source": [
    "# get source = /home/mafzaal/source/mafzaal.github.io/posts/2025/05/it-depends-on-the-context/index.md\n",
    "\n",
    "source = \"/home/mafzaal/source/mafzaal.github.io/posts/2025/05/it-depends-on-the-context/index.md\"\n",
    "new_docs = docs_by_source[source]\n"
   ]
  },
  {
   "cell_type": "code",
   "execution_count": null,
   "id": "a14c70dc",
   "metadata": {},
   "outputs": [],
   "source": [
    "split_docs = blog_utils.split_documents(new_docs)"
   ]
  },
  {
   "cell_type": "code",
   "execution_count": null,
   "id": "1c40c587",
   "metadata": {},
   "outputs": [],
   "source": [
    "split_docs[0]"
   ]
  },
  {
   "cell_type": "code",
   "execution_count": null,
   "id": "daeec357",
   "metadata": {},
   "outputs": [],
   "source": [
    "from langchain.embeddings import init_embeddings\n",
    "embedding_model = init_embeddings(\"ollama:snowflake-arctic-embed2:latest\",base_url=\"http://host.docker.internal:11434\")\n",
    "#embedding_model.embed_query(\"Hello, how are you?\")"
   ]
  },
  {
   "cell_type": "code",
   "execution_count": null,
   "id": "72dd14b5",
   "metadata": {},
   "outputs": [],
   "source": [
    "#vector_store = blog_utils = blog_utils.create_vector_store(docs,'./db/vector_store_tdg_3')\n",
    "\n",
    "from langchain.embeddings import init_embeddings\n",
    "from langchain_qdrant import QdrantVectorStore\n",
    "\n",
    "embedding_model = init_embeddings(\"ollama:snowflake-arctic-embed2:latest\")\n",
    "\n",
    "\n",
    "\n",
    "vector_store = QdrantVectorStore.from_documents(\n",
    "        split_docs,\n",
    "        embedding=embedding_model, #type: ignore\n",
    "        collection_name=\"the_data_guy_dev\",\n",
    "        url=\"http://127.0.0.1:6334\",\n",
    "        prefer_grpc=True,\n",
    "    )\n",
    "\n",
    "\n"
   ]
  },
  {
   "cell_type": "code",
   "execution_count": null,
   "id": "819170ac",
   "metadata": {},
   "outputs": [],
   "source": [
    "#vector_store.add_documents(split_docs)"
   ]
  },
  {
   "cell_type": "code",
   "execution_count": null,
   "id": "a2f96d9a",
   "metadata": {},
   "outputs": [],
   "source": [
    "vector_store = QdrantVectorStore.from_existing_collection(        \n",
    "        embedding=embedding_model, #type: ignore\n",
    "        collection_name=\"the_data_guy_dev\",\n",
    "        url=\"http://127.0.0.1:6334\",\n",
    "        prefer_grpc=True,\n",
    "    )\n"
   ]
  },
  {
   "cell_type": "code",
   "execution_count": null,
   "id": "57294f6c",
   "metadata": {},
   "outputs": [],
   "source": [
    "from langchain_community.document_loaders import WebBaseLoader\n",
    "loader = WebBaseLoader([\"https://thedataguy.pro/analytics/\",\"https://thedataguy.pro/projects/\",\"https://thedataguy.pro/about/\"])\n",
    "web_docs = loader.load()\n"
   ]
  },
  {
   "cell_type": "code",
   "execution_count": null,
   "id": "5a0f3655",
   "metadata": {},
   "outputs": [],
   "source": [
    "web_docs[2].page_content"
   ]
  },
  {
   "cell_type": "code",
   "execution_count": null,
   "id": "111ce863",
   "metadata": {},
   "outputs": [],
   "source": [
    "from langchain.schema.document import Document\n",
    "page_content = \"\"\" \n",
    "\n",
    "\"\"\"\n",
    "new_docs = [Document(page_content=page_content, metadata={'url':'https://thedataguy.pro/contact'})]"
   ]
  },
  {
   "cell_type": "code",
   "execution_count": null,
   "id": "d0f3c4f3",
   "metadata": {},
   "outputs": [],
   "source": [
    "vector_store.add_documents(web_docs)"
   ]
  },
  {
   "cell_type": "code",
   "execution_count": null,
   "id": "52e062c5",
   "metadata": {},
   "outputs": [],
   "source": [
    "vector_store.similarity_search(\"analytics\", k=3)"
   ]
  },
  {
   "cell_type": "markdown",
   "id": "ad3b2dca",
   "metadata": {},
   "source": [
    "## Testing the Vector Store\n",
    "\n",
    "Let's test the vector store with a few queries to make sure it's working correctly."
   ]
  },
  {
   "cell_type": "code",
   "execution_count": null,
   "id": "8b552e6b",
   "metadata": {},
   "outputs": [],
   "source": [
    "# Create a retriever from the vector store\n",
    "retriever = vector_store.as_retriever(search_kwargs={\"k\": 3})\n",
    "\n",
    "# Test queries\n",
    "test_queries = [\n",
    "    \"Give me projects list?\",\n",
    "    \"What is RAGAS?\",\n",
    "    \"How to build research agents?\",\n",
    "    \"What is metric driven development?\",\n",
    "    \"Who is TheDataGuy?\"\n",
    "]\n",
    "\n",
    "for query in test_queries:\n",
    "    print(f\"\\nQuery: {query}\")\n",
    "    docs = retriever.invoke(query)\n",
    "    print(f\"Retrieved {len(docs)} documents:\")\n",
    "    for i, doc in enumerate(docs):\n",
    "        title = doc.metadata.get(\"post_title\", \"Unknown\")\n",
    "        url = doc.metadata.get(\"url\", \"No URL\")\n",
    "        print(f\"{i+1}. {title} ({url})\")"
   ]
  },
  {
   "cell_type": "code",
   "execution_count": null,
   "id": "4cdd6899",
   "metadata": {},
   "outputs": [],
   "source": [
    "vector_store.client.close()"
   ]
  }
 ],
 "metadata": {
  "kernelspec": {
   "display_name": ".venv",
   "language": "python",
   "name": "python3"
  },
  "language_info": {
   "codemirror_mode": {
    "name": "ipython",
    "version": 3
   },
   "file_extension": ".py",
   "mimetype": "text/x-python",
   "name": "python",
   "nbconvert_exporter": "python",
   "pygments_lexer": "ipython3",
   "version": "3.13.2"
  }
 },
 "nbformat": 4,
 "nbformat_minor": 5
}
