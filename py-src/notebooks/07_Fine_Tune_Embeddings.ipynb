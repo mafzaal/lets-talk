{
 "cells": [
  {
   "cell_type": "code",
   "execution_count": null,
   "id": "b3f96d37",
   "metadata": {},
   "outputs": [],
   "source": [
    "!pip install -qU sentence_transformers datasets pyarrow"
   ]
  }
 ],
 "metadata": {
  "kernelspec": {
   "display_name": ".venv",
   "language": "python",
   "name": "python3"
  },
  "language_info": {
   "name": "python",
   "version": "3.13.2"
  }
 },
 "nbformat": 4,
 "nbformat_minor": 5
}
